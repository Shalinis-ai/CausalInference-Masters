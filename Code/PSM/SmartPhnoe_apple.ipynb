{
 "cells": [
  {
   "cell_type": "code",
   "execution_count": null,
   "id": "19c35dc0-d7d4-4368-92e3-70b2b9f5a82e",
   "metadata": {},
   "outputs": [],
   "source": []
  },
  {
   "cell_type": "code",
   "execution_count": 1,
   "id": "a057a3c5-6daf-4ef0-bc1d-0e685ab19c5e",
   "metadata": {},
   "outputs": [],
   "source": [
    "import pandas as pd\n",
    "import numpy as np\n",
    "from sklearn.preprocessing import LabelEncoder"
   ]
  },
  {
   "cell_type": "code",
   "execution_count": 2,
   "id": "afb6ea19-977b-4b14-9dbc-2e4c4c535b59",
   "metadata": {},
   "outputs": [],
   "source": [
    "# Assuming 'category_data' is your DataFrame containing data for a specific product and category_code\n",
    "# Let's start with encoding categorical variables if needed\n"
   ]
  },
  {
   "cell_type": "code",
   "execution_count": null,
   "id": "bb27e5dc-768f-4629-92b8-5d82773bb41f",
   "metadata": {},
   "outputs": [],
   "source": []
  },
  {
   "cell_type": "code",
   "execution_count": 3,
   "id": "2484501c-b3f2-41dc-a9f2-48c86728510f",
   "metadata": {},
   "outputs": [],
   "source": [
    "import warnings\n"
   ]
  },
  {
   "cell_type": "code",
   "execution_count": 4,
   "id": "b9ab8602-9358-463f-a583-03cf11fa1f49",
   "metadata": {},
   "outputs": [],
   "source": [
    "warnings.filterwarnings('ignore')"
   ]
  },
  {
   "cell_type": "code",
   "execution_count": 5,
   "id": "0ecf14d2-d0cf-4c06-8af5-32b2c9cee36b",
   "metadata": {},
   "outputs": [],
   "source": [
    "# Load the datasets\n",
    "oct_df = pd.read_csv('/data/CausalTrial/2019-Oct.csv')  # Update the path to your October dataset\n",
    "nov_df = pd.read_csv('/data/CausalTrial/2019-Nov.csv')  # Update the path to your November dataset\n"
   ]
  },
  {
   "cell_type": "code",
   "execution_count": 6,
   "id": "2759eb2b-6859-4725-9694-b124be7af8f8",
   "metadata": {},
   "outputs": [],
   "source": [
    "# Combine the data\n",
    "data = pd.concat([oct_df, nov_df])"
   ]
  },
  {
   "cell_type": "code",
   "execution_count": 7,
   "id": "252731b4-2f58-4804-be30-e95bb932dc5d",
   "metadata": {},
   "outputs": [],
   "source": [
    "del(oct_df)\n",
    "del(nov_df)"
   ]
  },
  {
   "cell_type": "code",
   "execution_count": 8,
   "id": "e2946c6d-6a59-45f6-baa3-82ab1e7c1b23",
   "metadata": {},
   "outputs": [
    {
     "data": {
      "text/html": [
       "<div>\n",
       "<style scoped>\n",
       "    .dataframe tbody tr th:only-of-type {\n",
       "        vertical-align: middle;\n",
       "    }\n",
       "\n",
       "    .dataframe tbody tr th {\n",
       "        vertical-align: top;\n",
       "    }\n",
       "\n",
       "    .dataframe thead th {\n",
       "        text-align: right;\n",
       "    }\n",
       "</style>\n",
       "<table border=\"1\" class=\"dataframe\">\n",
       "  <thead>\n",
       "    <tr style=\"text-align: right;\">\n",
       "      <th></th>\n",
       "      <th>event_time</th>\n",
       "      <th>event_type</th>\n",
       "      <th>product_id</th>\n",
       "      <th>category_id</th>\n",
       "      <th>category_code</th>\n",
       "      <th>brand</th>\n",
       "      <th>price</th>\n",
       "      <th>user_id</th>\n",
       "      <th>user_session</th>\n",
       "    </tr>\n",
       "  </thead>\n",
       "  <tbody>\n",
       "    <tr>\n",
       "      <th>0</th>\n",
       "      <td>2019-10-01 00:00:00 UTC</td>\n",
       "      <td>view</td>\n",
       "      <td>44600062</td>\n",
       "      <td>2103807459595387724</td>\n",
       "      <td>NaN</td>\n",
       "      <td>shiseido</td>\n",
       "      <td>35.79</td>\n",
       "      <td>541312140</td>\n",
       "      <td>72d76fde-8bb3-4e00-8c23-a032dfed738c</td>\n",
       "    </tr>\n",
       "    <tr>\n",
       "      <th>1</th>\n",
       "      <td>2019-10-01 00:00:00 UTC</td>\n",
       "      <td>view</td>\n",
       "      <td>3900821</td>\n",
       "      <td>2053013552326770905</td>\n",
       "      <td>appliances.environment.water_heater</td>\n",
       "      <td>aqua</td>\n",
       "      <td>33.20</td>\n",
       "      <td>554748717</td>\n",
       "      <td>9333dfbd-b87a-4708-9857-6336556b0fcc</td>\n",
       "    </tr>\n",
       "    <tr>\n",
       "      <th>2</th>\n",
       "      <td>2019-10-01 00:00:01 UTC</td>\n",
       "      <td>view</td>\n",
       "      <td>17200506</td>\n",
       "      <td>2053013559792632471</td>\n",
       "      <td>furniture.living_room.sofa</td>\n",
       "      <td>NaN</td>\n",
       "      <td>543.10</td>\n",
       "      <td>519107250</td>\n",
       "      <td>566511c2-e2e3-422b-b695-cf8e6e792ca8</td>\n",
       "    </tr>\n",
       "    <tr>\n",
       "      <th>3</th>\n",
       "      <td>2019-10-01 00:00:01 UTC</td>\n",
       "      <td>view</td>\n",
       "      <td>1307067</td>\n",
       "      <td>2053013558920217191</td>\n",
       "      <td>computers.notebook</td>\n",
       "      <td>lenovo</td>\n",
       "      <td>251.74</td>\n",
       "      <td>550050854</td>\n",
       "      <td>7c90fc70-0e80-4590-96f3-13c02c18c713</td>\n",
       "    </tr>\n",
       "    <tr>\n",
       "      <th>4</th>\n",
       "      <td>2019-10-01 00:00:04 UTC</td>\n",
       "      <td>view</td>\n",
       "      <td>1004237</td>\n",
       "      <td>2053013555631882655</td>\n",
       "      <td>electronics.smartphone</td>\n",
       "      <td>apple</td>\n",
       "      <td>1081.98</td>\n",
       "      <td>535871217</td>\n",
       "      <td>c6bd7419-2748-4c56-95b4-8cec9ff8b80d</td>\n",
       "    </tr>\n",
       "  </tbody>\n",
       "</table>\n",
       "</div>"
      ],
      "text/plain": [
       "                event_time event_type  product_id          category_id  \\\n",
       "0  2019-10-01 00:00:00 UTC       view    44600062  2103807459595387724   \n",
       "1  2019-10-01 00:00:00 UTC       view     3900821  2053013552326770905   \n",
       "2  2019-10-01 00:00:01 UTC       view    17200506  2053013559792632471   \n",
       "3  2019-10-01 00:00:01 UTC       view     1307067  2053013558920217191   \n",
       "4  2019-10-01 00:00:04 UTC       view     1004237  2053013555631882655   \n",
       "\n",
       "                         category_code     brand    price    user_id  \\\n",
       "0                                  NaN  shiseido    35.79  541312140   \n",
       "1  appliances.environment.water_heater      aqua    33.20  554748717   \n",
       "2           furniture.living_room.sofa       NaN   543.10  519107250   \n",
       "3                   computers.notebook    lenovo   251.74  550050854   \n",
       "4               electronics.smartphone     apple  1081.98  535871217   \n",
       "\n",
       "                           user_session  \n",
       "0  72d76fde-8bb3-4e00-8c23-a032dfed738c  \n",
       "1  9333dfbd-b87a-4708-9857-6336556b0fcc  \n",
       "2  566511c2-e2e3-422b-b695-cf8e6e792ca8  \n",
       "3  7c90fc70-0e80-4590-96f3-13c02c18c713  \n",
       "4  c6bd7419-2748-4c56-95b4-8cec9ff8b80d  "
      ]
     },
     "execution_count": 8,
     "metadata": {},
     "output_type": "execute_result"
    }
   ],
   "source": [
    "data.head()"
   ]
  },
  {
   "cell_type": "code",
   "execution_count": null,
   "id": "bd635a45-a049-4eda-9ba7-13155fc34c03",
   "metadata": {},
   "outputs": [],
   "source": []
  },
  {
   "cell_type": "code",
   "execution_count": 9,
   "id": "781d8080-d9bc-4962-95c6-d38ae9679e02",
   "metadata": {},
   "outputs": [],
   "source": [
    "# Step 1: Filter the DataFrame for 'electronics.smartphone' category and brand 'apple'\n",
    "apple_smartphones_df = data[(data['category_code'] == 'electronics.smartphone') & (data['brand'] == 'apple')]\n"
   ]
  },
  {
   "cell_type": "code",
   "execution_count": 10,
   "id": "dcb65184-6519-439d-9134-c9e0de649167",
   "metadata": {},
   "outputs": [],
   "source": [
    "# Step 2: Identify price changes\n",
    "# Sort the dataframe by event_time to ensure we are looking at prices in chronological order\n",
    "apple_smartphones_df = apple_smartphones_df.sort_values(by='event_time')\n"
   ]
  },
  {
   "cell_type": "code",
   "execution_count": 11,
   "id": "52d43b51-44e8-41cd-8e52-aedebdad345c",
   "metadata": {},
   "outputs": [],
   "source": [
    "# Calculate the difference in price between consecutive rows\n",
    "apple_smartphones_df['price_diff'] = apple_smartphones_df['price'].diff()"
   ]
  },
  {
   "cell_type": "code",
   "execution_count": 12,
   "id": "0dea64e0-1ea0-4577-9ed5-6d733c3f4552",
   "metadata": {},
   "outputs": [],
   "source": [
    "# Step 3: Determine the first price decrease\n",
    "# The first negative price_diff will be our intervention point\n",
    "intervention_index = apple_smartphones_df[apple_smartphones_df['price_diff'] < 0].index[0]"
   ]
  },
  {
   "cell_type": "code",
   "execution_count": 13,
   "id": "018fec23-8eec-41b6-a88a-10014b726c23",
   "metadata": {},
   "outputs": [
    {
     "data": {
      "text/plain": [
       "20"
      ]
     },
     "execution_count": 13,
     "metadata": {},
     "output_type": "execute_result"
    }
   ],
   "source": [
    "intervention_index"
   ]
  },
  {
   "cell_type": "code",
   "execution_count": 14,
   "id": "c4181972-4a68-4d8a-8e01-deff7062bfae",
   "metadata": {},
   "outputs": [],
   "source": [
    "# Set the intervention date as the date of the first price decrease\n",
    "intervention_date = apple_smartphones_df.loc[intervention_index, 'event_time']"
   ]
  },
  {
   "cell_type": "code",
   "execution_count": 15,
   "id": "b519519b-456a-4859-8296-c6450eda3be4",
   "metadata": {},
   "outputs": [],
   "source": [
    "# Step 4: Calculate pre- and post-intervention prices and sales\n",
    "\n",
    "# Pre-intervention prices and sales\n",
    "pre_intervention_df = apple_smartphones_df[apple_smartphones_df['event_time'] < intervention_date]\n",
    "pre_price_mean = pre_intervention_df['price'].mean()\n",
    "pre_sales_count = pre_intervention_df[pre_intervention_df['event_type'] == 'purchase'].shape[0]"
   ]
  },
  {
   "cell_type": "code",
   "execution_count": 16,
   "id": "7f0b7b60-bab5-44ca-86c1-cb96548296e5",
   "metadata": {},
   "outputs": [],
   "source": [
    "# Post-intervention prices and sales\n",
    "post_intervention_df = apple_smartphones_df[apple_smartphones_df['event_time'] >= intervention_date]\n",
    "post_price_mean = post_intervention_df['price'].mean()\n",
    "post_sales_count = post_intervention_df[post_intervention_df['event_type'] == 'purchase'].shape[0]"
   ]
  },
  {
   "cell_type": "code",
   "execution_count": 17,
   "id": "605f24f8-ca4c-401c-9f6b-1bc69ccd3de2",
   "metadata": {},
   "outputs": [
    {
     "name": "stdout",
     "output_type": "stream",
     "text": [
      "Intervention Date: 2019-10-01 00:00:20 UTC\n",
      "Pre-Intervention Price Mean: 1414.885\n",
      "Post-Intervention Price Mean: 937.3154954074679\n",
      "Pre-Intervention Sales Count: 0\n",
      "Post-Intervention Sales Count: 242597\n"
     ]
    }
   ],
   "source": [
    "# Display the results\n",
    "print(f\"Intervention Date: {intervention_date}\")\n",
    "print(f\"Pre-Intervention Price Mean: {pre_price_mean}\")\n",
    "print(f\"Post-Intervention Price Mean: {post_price_mean}\")\n",
    "print(f\"Pre-Intervention Sales Count: {pre_sales_count}\")\n",
    "print(f\"Post-Intervention Sales Count: {post_sales_count}\")"
   ]
  },
  {
   "cell_type": "code",
   "execution_count": null,
   "id": "49eb70b0-1bbf-4be5-b265-7c44dcd1c6eb",
   "metadata": {},
   "outputs": [],
   "source": [
    "## apple product has the price reduction on 2019-10-01 and sales has been increased by more than 2 lakhs product sold"
   ]
  },
  {
   "cell_type": "code",
   "execution_count": null,
   "id": "8b256a7a-4d95-4199-8506-8ca8520df1cc",
   "metadata": {},
   "outputs": [],
   "source": []
  }
 ],
 "metadata": {
  "kernelspec": {
   "display_name": "Default_env_69876",
   "language": "python",
   "name": "67960"
  },
  "language_info": {
   "codemirror_mode": {
    "name": "ipython",
    "version": 3
   },
   "file_extension": ".py",
   "mimetype": "text/x-python",
   "name": "python",
   "nbconvert_exporter": "python",
   "pygments_lexer": "ipython3",
   "version": "3.7.0"
  }
 },
 "nbformat": 4,
 "nbformat_minor": 5
}
