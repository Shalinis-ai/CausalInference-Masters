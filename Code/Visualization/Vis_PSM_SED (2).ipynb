{
 "cells": [
  {
   "cell_type": "markdown",
   "id": "62ae022f-8c7a-431a-99d8-d88f76350863",
   "metadata": {},
   "source": [
    "# Part 1: Data Preparation"
   ]
  },
  {
   "cell_type": "code",
   "execution_count": 1,
   "id": "65bf989b-056b-4c64-a564-90664ce839ab",
   "metadata": {},
   "outputs": [],
   "source": [
    "import pandas as pd\n",
    "import numpy as np\n",
    "from sklearn.model_selection import train_test_split\n",
    "import seaborn as sns\n",
    "import matplotlib.pyplot as plt"
   ]
  },
  {
   "cell_type": "code",
   "execution_count": 2,
   "id": "2ba92888-a2dc-47c9-8f89-e2e23009a999",
   "metadata": {},
   "outputs": [],
   "source": [
    "# Assume you have a DataFrame `category_data` with relevant columns\n",
    "# Columns: 'event_time', 'event_type', 'product_id', 'category_code', 'brand', 'price', 'user_id', 'user_session', 'is_purchase'"
   ]
  },
  {
   "cell_type": "code",
   "execution_count": 3,
   "id": "af568f4f-d1a3-4ef2-83c6-b3bd14975ad0",
   "metadata": {},
   "outputs": [],
   "source": [
    "import warnings\n"
   ]
  },
  {
   "cell_type": "code",
   "execution_count": 4,
   "id": "b1a598e2-ab75-4536-87b9-750573fccd20",
   "metadata": {},
   "outputs": [],
   "source": [
    "warnings.filterwarnings('ignore')"
   ]
  },
  {
   "cell_type": "code",
   "execution_count": 5,
   "id": "22177c8e-a916-4dd9-a063-903b39f4ee5f",
   "metadata": {},
   "outputs": [],
   "source": [
    "# Load the datasets\n",
    "oct_df = pd.read_csv('/data/CausalTrial/2019-Oct.csv')  # Update the path to your October dataset\n",
    "nov_df = pd.read_csv('/data/CausalTrial/2019-Nov.csv')  # Update the path to your November dataset\n"
   ]
  },
  {
   "cell_type": "code",
   "execution_count": 6,
   "id": "c1d97829-4dc1-4ddf-8525-dea7305c63be",
   "metadata": {},
   "outputs": [],
   "source": [
    "# Combine the data\n",
    "data = pd.concat([oct_df, nov_df])"
   ]
  },
  {
   "cell_type": "code",
   "execution_count": 7,
   "id": "3f9ff479-f52c-4f99-ab0a-03e7083a0d18",
   "metadata": {},
   "outputs": [],
   "source": [
    "del(oct_df)\n",
    "del(nov_df)"
   ]
  },
  {
   "cell_type": "code",
   "execution_count": 8,
   "id": "38553749-892f-43d9-8b7f-b18841ff5738",
   "metadata": {},
   "outputs": [
    {
     "data": {
      "text/html": [
       "<div>\n",
       "<style scoped>\n",
       "    .dataframe tbody tr th:only-of-type {\n",
       "        vertical-align: middle;\n",
       "    }\n",
       "\n",
       "    .dataframe tbody tr th {\n",
       "        vertical-align: top;\n",
       "    }\n",
       "\n",
       "    .dataframe thead th {\n",
       "        text-align: right;\n",
       "    }\n",
       "</style>\n",
       "<table border=\"1\" class=\"dataframe\">\n",
       "  <thead>\n",
       "    <tr style=\"text-align: right;\">\n",
       "      <th></th>\n",
       "      <th>event_time</th>\n",
       "      <th>event_type</th>\n",
       "      <th>product_id</th>\n",
       "      <th>category_id</th>\n",
       "      <th>category_code</th>\n",
       "      <th>brand</th>\n",
       "      <th>price</th>\n",
       "      <th>user_id</th>\n",
       "      <th>user_session</th>\n",
       "    </tr>\n",
       "  </thead>\n",
       "  <tbody>\n",
       "    <tr>\n",
       "      <th>0</th>\n",
       "      <td>2019-10-01 00:00:00 UTC</td>\n",
       "      <td>view</td>\n",
       "      <td>44600062</td>\n",
       "      <td>2103807459595387724</td>\n",
       "      <td>NaN</td>\n",
       "      <td>shiseido</td>\n",
       "      <td>35.79</td>\n",
       "      <td>541312140</td>\n",
       "      <td>72d76fde-8bb3-4e00-8c23-a032dfed738c</td>\n",
       "    </tr>\n",
       "    <tr>\n",
       "      <th>1</th>\n",
       "      <td>2019-10-01 00:00:00 UTC</td>\n",
       "      <td>view</td>\n",
       "      <td>3900821</td>\n",
       "      <td>2053013552326770905</td>\n",
       "      <td>appliances.environment.water_heater</td>\n",
       "      <td>aqua</td>\n",
       "      <td>33.20</td>\n",
       "      <td>554748717</td>\n",
       "      <td>9333dfbd-b87a-4708-9857-6336556b0fcc</td>\n",
       "    </tr>\n",
       "    <tr>\n",
       "      <th>2</th>\n",
       "      <td>2019-10-01 00:00:01 UTC</td>\n",
       "      <td>view</td>\n",
       "      <td>17200506</td>\n",
       "      <td>2053013559792632471</td>\n",
       "      <td>furniture.living_room.sofa</td>\n",
       "      <td>NaN</td>\n",
       "      <td>543.10</td>\n",
       "      <td>519107250</td>\n",
       "      <td>566511c2-e2e3-422b-b695-cf8e6e792ca8</td>\n",
       "    </tr>\n",
       "    <tr>\n",
       "      <th>3</th>\n",
       "      <td>2019-10-01 00:00:01 UTC</td>\n",
       "      <td>view</td>\n",
       "      <td>1307067</td>\n",
       "      <td>2053013558920217191</td>\n",
       "      <td>computers.notebook</td>\n",
       "      <td>lenovo</td>\n",
       "      <td>251.74</td>\n",
       "      <td>550050854</td>\n",
       "      <td>7c90fc70-0e80-4590-96f3-13c02c18c713</td>\n",
       "    </tr>\n",
       "    <tr>\n",
       "      <th>4</th>\n",
       "      <td>2019-10-01 00:00:04 UTC</td>\n",
       "      <td>view</td>\n",
       "      <td>1004237</td>\n",
       "      <td>2053013555631882655</td>\n",
       "      <td>electronics.smartphone</td>\n",
       "      <td>apple</td>\n",
       "      <td>1081.98</td>\n",
       "      <td>535871217</td>\n",
       "      <td>c6bd7419-2748-4c56-95b4-8cec9ff8b80d</td>\n",
       "    </tr>\n",
       "  </tbody>\n",
       "</table>\n",
       "</div>"
      ],
      "text/plain": [
       "                event_time event_type  product_id          category_id  \\\n",
       "0  2019-10-01 00:00:00 UTC       view    44600062  2103807459595387724   \n",
       "1  2019-10-01 00:00:00 UTC       view     3900821  2053013552326770905   \n",
       "2  2019-10-01 00:00:01 UTC       view    17200506  2053013559792632471   \n",
       "3  2019-10-01 00:00:01 UTC       view     1307067  2053013558920217191   \n",
       "4  2019-10-01 00:00:04 UTC       view     1004237  2053013555631882655   \n",
       "\n",
       "                         category_code     brand    price    user_id  \\\n",
       "0                                  NaN  shiseido    35.79  541312140   \n",
       "1  appliances.environment.water_heater      aqua    33.20  554748717   \n",
       "2           furniture.living_room.sofa       NaN   543.10  519107250   \n",
       "3                   computers.notebook    lenovo   251.74  550050854   \n",
       "4               electronics.smartphone     apple  1081.98  535871217   \n",
       "\n",
       "                           user_session  \n",
       "0  72d76fde-8bb3-4e00-8c23-a032dfed738c  \n",
       "1  9333dfbd-b87a-4708-9857-6336556b0fcc  \n",
       "2  566511c2-e2e3-422b-b695-cf8e6e792ca8  \n",
       "3  7c90fc70-0e80-4590-96f3-13c02c18c713  \n",
       "4  c6bd7419-2748-4c56-95b4-8cec9ff8b80d  "
      ]
     },
     "execution_count": 8,
     "metadata": {},
     "output_type": "execute_result"
    }
   ],
   "source": [
    "data.head()"
   ]
  },
  {
   "cell_type": "code",
   "execution_count": 9,
   "id": "a009687e-7429-4941-b7f6-28e93d848edd",
   "metadata": {},
   "outputs": [],
   "source": [
    "data.replace([np.inf, -np.inf], np.nan, inplace=True)"
   ]
  },
  {
   "cell_type": "code",
   "execution_count": 10,
   "id": "9d7c3b0a-5766-4867-b5ec-728dd52e5276",
   "metadata": {},
   "outputs": [],
   "source": [
    "data.dropna(inplace=True)"
   ]
  },
  {
   "cell_type": "code",
   "execution_count": 11,
   "id": "b8b0ba20-ad68-473e-9c20-94d59cc5e124",
   "metadata": {},
   "outputs": [
    {
     "data": {
      "text/plain": [
       "event_time       0\n",
       "event_type       0\n",
       "product_id       0\n",
       "category_id      0\n",
       "category_code    0\n",
       "brand            0\n",
       "price            0\n",
       "user_id          0\n",
       "user_session     0\n",
       "dtype: int64"
      ]
     },
     "execution_count": 11,
     "metadata": {},
     "output_type": "execute_result"
    }
   ],
   "source": [
    "data.isnull().sum()"
   ]
  },
  {
   "cell_type": "code",
   "execution_count": 12,
   "id": "48a9585d-030f-4ba0-aaee-168cb34d751c",
   "metadata": {},
   "outputs": [],
   "source": [
    "# Step 1: Filter the dataset to include only purchase events\n",
    "data['is_purchase'] = data['event_type'].apply(lambda x: 1 if x == 'purchase' else 0)"
   ]
  },
  {
   "cell_type": "code",
   "execution_count": 13,
   "id": "1bc2a196-0e2f-444c-8ff7-6f5a5b16d7b8",
   "metadata": {},
   "outputs": [],
   "source": [
    "# Step 2: Frequency encoding for categorical variables\n",
    "# Calculate the frequency of each category in 'category_code'\n",
    "frequency_encoding_category = data['category_code'].value_counts(normalize=True)\n",
    "data['category_code_encoded'] = data['category_code'].map(frequency_encoding_category)\n",
    "\n",
    "# Calculate the frequency of each category in 'brand'\n",
    "frequency_encoding_brand = data['brand'].value_counts(normalize=True)\n",
    "data['brand_encoded'] = data['brand'].map(frequency_encoding_brand)"
   ]
  },
  {
   "cell_type": "code",
   "execution_count": 14,
   "id": "16c27e2d-2681-46e0-b9a3-7889655f998d",
   "metadata": {},
   "outputs": [
    {
     "data": {
      "text/html": [
       "<div>\n",
       "<style scoped>\n",
       "    .dataframe tbody tr th:only-of-type {\n",
       "        vertical-align: middle;\n",
       "    }\n",
       "\n",
       "    .dataframe tbody tr th {\n",
       "        vertical-align: top;\n",
       "    }\n",
       "\n",
       "    .dataframe thead th {\n",
       "        text-align: right;\n",
       "    }\n",
       "</style>\n",
       "<table border=\"1\" class=\"dataframe\">\n",
       "  <thead>\n",
       "    <tr style=\"text-align: right;\">\n",
       "      <th></th>\n",
       "      <th>event_time</th>\n",
       "      <th>event_type</th>\n",
       "      <th>product_id</th>\n",
       "      <th>category_id</th>\n",
       "      <th>category_code</th>\n",
       "      <th>brand</th>\n",
       "      <th>price</th>\n",
       "      <th>user_id</th>\n",
       "      <th>user_session</th>\n",
       "      <th>is_purchase</th>\n",
       "      <th>category_code_encoded</th>\n",
       "      <th>brand_encoded</th>\n",
       "    </tr>\n",
       "  </thead>\n",
       "  <tbody>\n",
       "    <tr>\n",
       "      <th>1</th>\n",
       "      <td>2019-10-01 00:00:00 UTC</td>\n",
       "      <td>view</td>\n",
       "      <td>3900821</td>\n",
       "      <td>2053013552326770905</td>\n",
       "      <td>appliances.environment.water_heater</td>\n",
       "      <td>aqua</td>\n",
       "      <td>33.20</td>\n",
       "      <td>554748717</td>\n",
       "      <td>9333dfbd-b87a-4708-9857-6336556b0fcc</td>\n",
       "      <td>0</td>\n",
       "      <td>0.004947</td>\n",
       "      <td>0.000499</td>\n",
       "    </tr>\n",
       "    <tr>\n",
       "      <th>3</th>\n",
       "      <td>2019-10-01 00:00:01 UTC</td>\n",
       "      <td>view</td>\n",
       "      <td>1307067</td>\n",
       "      <td>2053013558920217191</td>\n",
       "      <td>computers.notebook</td>\n",
       "      <td>lenovo</td>\n",
       "      <td>251.74</td>\n",
       "      <td>550050854</td>\n",
       "      <td>7c90fc70-0e80-4590-96f3-13c02c18c713</td>\n",
       "      <td>0</td>\n",
       "      <td>0.048010</td>\n",
       "      <td>0.015517</td>\n",
       "    </tr>\n",
       "    <tr>\n",
       "      <th>4</th>\n",
       "      <td>2019-10-01 00:00:04 UTC</td>\n",
       "      <td>view</td>\n",
       "      <td>1004237</td>\n",
       "      <td>2053013555631882655</td>\n",
       "      <td>electronics.smartphone</td>\n",
       "      <td>apple</td>\n",
       "      <td>1081.98</td>\n",
       "      <td>535871217</td>\n",
       "      <td>c6bd7419-2748-4c56-95b4-8cec9ff8b80d</td>\n",
       "      <td>0</td>\n",
       "      <td>0.405518</td>\n",
       "      <td>0.150131</td>\n",
       "    </tr>\n",
       "    <tr>\n",
       "      <th>5</th>\n",
       "      <td>2019-10-01 00:00:05 UTC</td>\n",
       "      <td>view</td>\n",
       "      <td>1480613</td>\n",
       "      <td>2053013561092866779</td>\n",
       "      <td>computers.desktop</td>\n",
       "      <td>pulser</td>\n",
       "      <td>908.62</td>\n",
       "      <td>512742880</td>\n",
       "      <td>0d0d91c2-c9c2-4e81-90a5-86594dec0db9</td>\n",
       "      <td>0</td>\n",
       "      <td>0.015309</td>\n",
       "      <td>0.003101</td>\n",
       "    </tr>\n",
       "    <tr>\n",
       "      <th>8</th>\n",
       "      <td>2019-10-01 00:00:10 UTC</td>\n",
       "      <td>view</td>\n",
       "      <td>28719074</td>\n",
       "      <td>2053013565480109009</td>\n",
       "      <td>apparel.shoes.keds</td>\n",
       "      <td>baden</td>\n",
       "      <td>102.71</td>\n",
       "      <td>520571932</td>\n",
       "      <td>ac1cd4e5-a3ce-4224-a2d7-ff660a105880</td>\n",
       "      <td>0</td>\n",
       "      <td>0.011340</td>\n",
       "      <td>0.005754</td>\n",
       "    </tr>\n",
       "  </tbody>\n",
       "</table>\n",
       "</div>"
      ],
      "text/plain": [
       "                event_time event_type  product_id          category_id  \\\n",
       "1  2019-10-01 00:00:00 UTC       view     3900821  2053013552326770905   \n",
       "3  2019-10-01 00:00:01 UTC       view     1307067  2053013558920217191   \n",
       "4  2019-10-01 00:00:04 UTC       view     1004237  2053013555631882655   \n",
       "5  2019-10-01 00:00:05 UTC       view     1480613  2053013561092866779   \n",
       "8  2019-10-01 00:00:10 UTC       view    28719074  2053013565480109009   \n",
       "\n",
       "                         category_code   brand    price    user_id  \\\n",
       "1  appliances.environment.water_heater    aqua    33.20  554748717   \n",
       "3                   computers.notebook  lenovo   251.74  550050854   \n",
       "4               electronics.smartphone   apple  1081.98  535871217   \n",
       "5                    computers.desktop  pulser   908.62  512742880   \n",
       "8                   apparel.shoes.keds   baden   102.71  520571932   \n",
       "\n",
       "                           user_session  is_purchase  category_code_encoded  \\\n",
       "1  9333dfbd-b87a-4708-9857-6336556b0fcc            0               0.004947   \n",
       "3  7c90fc70-0e80-4590-96f3-13c02c18c713            0               0.048010   \n",
       "4  c6bd7419-2748-4c56-95b4-8cec9ff8b80d            0               0.405518   \n",
       "5  0d0d91c2-c9c2-4e81-90a5-86594dec0db9            0               0.015309   \n",
       "8  ac1cd4e5-a3ce-4224-a2d7-ff660a105880            0               0.011340   \n",
       "\n",
       "   brand_encoded  \n",
       "1       0.000499  \n",
       "3       0.015517  \n",
       "4       0.150131  \n",
       "5       0.003101  \n",
       "8       0.005754  "
      ]
     },
     "execution_count": 14,
     "metadata": {},
     "output_type": "execute_result"
    }
   ],
   "source": [
    "data.head()"
   ]
  },
  {
   "cell_type": "code",
   "execution_count": 15,
   "id": "36ea3df7-a8f4-41ab-bd64-9f6125d47ba2",
   "metadata": {},
   "outputs": [],
   "source": [
    "med_value = data['price'].median()"
   ]
  },
  {
   "cell_type": "code",
   "execution_count": 16,
   "id": "c0e06f92-6a5f-4afc-a68d-f2cdf1d16aa0",
   "metadata": {},
   "outputs": [
    {
     "data": {
      "text/plain": [
       "218.77"
      ]
     },
     "execution_count": 16,
     "metadata": {},
     "output_type": "execute_result"
    }
   ],
   "source": [
    "med_value"
   ]
  },
  {
   "cell_type": "code",
   "execution_count": 17,
   "id": "081f6da3-aa5f-4f62-ab3d-dbda106fd969",
   "metadata": {},
   "outputs": [],
   "source": [
    "# Create treatment variable (1 if price was reduced, 0 otherwise)\n",
    "data['treatment'] = data['price'].apply(lambda x: 1 if x < med_value  else 0)"
   ]
  },
  {
   "cell_type": "code",
   "execution_count": 18,
   "id": "8f1d970b-8700-421d-8e6c-26fdb146a4a2",
   "metadata": {},
   "outputs": [],
   "source": [
    "# Select covariates (example)\n",
    "covariates = ['price', 'category_code', 'brand']\n"
   ]
  },
  {
   "cell_type": "code",
   "execution_count": 19,
   "id": "3fa2adf9-e228-4b1c-a9e4-740ccece98f2",
   "metadata": {},
   "outputs": [],
   "source": [
    "covariates_encoded = ['category_code_encoded', 'brand_encoded']"
   ]
  },
  {
   "cell_type": "markdown",
   "id": "898d0365-f0a9-4c76-8995-0e1cb8055212",
   "metadata": {},
   "source": [
    "# Part 2: Propensity Score Calculation"
   ]
  },
  {
   "cell_type": "code",
   "execution_count": 20,
   "id": "2d613cd1-8804-44df-ab01-75013e34dfcc",
   "metadata": {},
   "outputs": [],
   "source": [
    "from sklearn.linear_model import LogisticRegression"
   ]
  },
  {
   "cell_type": "code",
   "execution_count": 21,
   "id": "b1bde8f7-6b90-4ac9-984c-97ed7970246d",
   "metadata": {},
   "outputs": [],
   "source": [
    "# Fit the logistic regression model to estimate propensity scores\n",
    "X = data [covariates_encoded + ['price']]\n",
    "y = data['treatment']"
   ]
  },
  {
   "cell_type": "code",
   "execution_count": 22,
   "id": "0b8d76ca-a706-4067-bd85-8f80d76572d0",
   "metadata": {},
   "outputs": [],
   "source": [
    "logit = LogisticRegression()\n",
    "data['propensity_score'] = logit.fit(X, y).predict_proba(X)[:, 1]"
   ]
  },
  {
   "cell_type": "code",
   "execution_count": 23,
   "id": "4fb3b570-77af-48ce-a2d6-47d4a96ef58c",
   "metadata": {},
   "outputs": [
    {
     "data": {
      "image/png": "[encoded data removed]",
      "text/plain": [
       "<Figure size 432x288 with 1 Axes>"
      ]
     },
     "metadata": {
      "needs_background": "light"
     },
     "output_type": "display_data"
    }
   ],
   "source": [
    "# Display the distribution of propensity scores\n",
    "sns.histplot(data['propensity_score'], kde=True)\n",
    "plt.title('Distribution of Propensity Scores')\n",
    "plt.show()"
   ]
  },
  {
   "cell_type": "code",
   "execution_count": null,
   "id": "30838370-ef57-41d8-9716-93c5c2b1a1b7",
   "metadata": {},
   "outputs": [],
   "source": []
  },
  {
   "cell_type": "markdown",
   "id": "dcb3452f-b1ed-4379-bbe5-9a0bcbf79a0b",
   "metadata": {},
   "source": [
    "# Part 3: Matching"
   ]
  },
  {
   "cell_type": "code",
   "execution_count": 24,
   "id": "597201f8-9b99-4155-8374-07338aa1a5ce",
   "metadata": {},
   "outputs": [],
   "source": [
    "from sklearn.neighbors import NearestNeighbors\n"
   ]
  },
  {
   "cell_type": "code",
   "execution_count": 25,
   "id": "6b8be1ce-be4d-4fb6-9306-1b69cd8d7d50",
   "metadata": {},
   "outputs": [],
   "source": [
    "# Split the data into treatment and control groups\n",
    "treatment_group = data[data['treatment'] == 1]\n",
    "control_group = data[data['treatment'] == 0]"
   ]
  },
  {
   "cell_type": "code",
   "execution_count": 26,
   "id": "837431ed-03b4-4a01-9adb-1457567036e8",
   "metadata": {},
   "outputs": [],
   "source": [
    "# Perform Nearest Neighbor Matching\n",
    "nbrs = NearestNeighbors(n_neighbors=1, algorithm='ball_tree').fit(control_group[['propensity_score']])\n",
    "distances, indices = nbrs.kneighbors(treatment_group[['propensity_score']])\n",
    "matched_control_indices = indices.flatten()\n",
    "matched_control_group = control_group.iloc[matched_control_indices].copy()"
   ]
  },
  {
   "cell_type": "code",
   "execution_count": 27,
   "id": "88fa6997-a079-45bb-bb36-380700df8b52",
   "metadata": {},
   "outputs": [],
   "source": [
    "# Combine matched treatment and control groups\n",
    "matched_data = pd.concat([treatment_group, matched_control_group], axis=0).reset_index(drop=True)"
   ]
  },
  {
   "cell_type": "code",
   "execution_count": null,
   "id": "7240eb8c-fbd9-43fe-888a-a1025966adc6",
   "metadata": {},
   "outputs": [],
   "source": []
  },
  {
   "cell_type": "markdown",
   "id": "3eea922d-3936-477a-97a0-d27903af1f92",
   "metadata": {},
   "source": [
    "# Part 4: SED Calculation Before and After Matching"
   ]
  },
  {
   "cell_type": "code",
   "execution_count": 28,
   "id": "3159714e-3bd2-4592-8587-95c521cbb245",
   "metadata": {},
   "outputs": [],
   "source": [
    "# Function to calculate SED\n",
    "def calculate_sed(df, treatment_col, covariates):\n",
    "    mean_treatment = df[df[treatment_col] == 1][covariates].mean()\n",
    "    mean_control = df[df[treatment_col] == 0][covariates].mean()\n",
    "    var_treatment = df[df[treatment_col] == 1][covariates].var()\n",
    "    var_control = df[df[treatment_col] == 0][covariates].var()\n",
    "   \n",
    "    sed = (mean_treatment - mean_control) / np.sqrt((var_treatment + var_control) / 2)\n",
    "    return sed"
   ]
  },
  {
   "cell_type": "code",
   "execution_count": 31,
   "id": "216d449f-b991-4f80-b1a6-811850ec1c4c",
   "metadata": {},
   "outputs": [
    {
     "name": "stdout",
     "output_type": "stream",
     "text": [
      "SED Before Matching:\n",
      "category_code_encoded   -0.579447\n",
      "brand_encoded           -0.659173\n",
      "dtype: float64\n"
     ]
    }
   ],
   "source": [
    "# SED Before Matching\n",
    "sed_before = calculate_sed(data, 'treatment', covariates_encoded)\n",
    "print(\"SED Before Matching:\")\n",
    "print(sed_before)"
   ]
  },
  {
   "cell_type": "code",
   "execution_count": 32,
   "id": "e5da432a-e6db-48db-8415-e4b824dfcd11",
   "metadata": {},
   "outputs": [
    {
     "data": {
      "text/plain": [
       "category_code_encoded   -0.579447\n",
       "brand_encoded           -0.659173\n",
       "dtype: float64"
      ]
     },
     "execution_count": 32,
     "metadata": {},
     "output_type": "execute_result"
    }
   ],
   "source": [
    "sed_before"
   ]
  },
  {
   "cell_type": "code",
   "execution_count": 33,
   "id": "74885e3b-aa3d-4e69-81d9-3abdc3bdfc9b",
   "metadata": {},
   "outputs": [
    {
     "name": "stdout",
     "output_type": "stream",
     "text": [
      "SED After Matching:\n",
      "category_code_encoded   -2.271995\n",
      "brand_encoded           -2.865632\n",
      "dtype: float64\n"
     ]
    }
   ],
   "source": [
    "# SED After Matching\n",
    "sed_after = calculate_sed(matched_data, 'treatment', covariates_encoded)\n",
    "print(\"SED After Matching:\")\n",
    "print(sed_after)"
   ]
  },
  {
   "cell_type": "code",
   "execution_count": 34,
   "id": "19eccd00-209b-46bd-a447-cfc2b5d6d645",
   "metadata": {},
   "outputs": [
    {
     "data": {
      "text/plain": [
       "category_code_encoded   -2.271995\n",
       "brand_encoded           -2.865632\n",
       "dtype: float64"
      ]
     },
     "execution_count": 34,
     "metadata": {},
     "output_type": "execute_result"
    }
   ],
   "source": [
    "sed_after"
   ]
  },
  {
   "cell_type": "code",
   "execution_count": null,
   "id": "dbdc6876-4e78-4bd5-a8dc-da9a4e62c795",
   "metadata": {},
   "outputs": [],
   "source": []
  },
  {
   "cell_type": "markdown",
   "id": "23112eee-f912-4bbf-aa89-3a7db1e9f302",
   "metadata": {},
   "source": [
    "# Part 5: Outcome Analysis"
   ]
  },
  {
   "cell_type": "code",
   "execution_count": 35,
   "id": "e62ea1fa-e85e-405e-92ca-f4e3838b7085",
   "metadata": {},
   "outputs": [],
   "source": [
    "import statsmodels.api as sm\n",
    "import statsmodels.formula.api as smf"
   ]
  },
  {
   "cell_type": "code",
   "execution_count": 36,
   "id": "887f8402-4088-436f-b04a-b0aa382b9e08",
   "metadata": {},
   "outputs": [
    {
     "name": "stdout",
     "output_type": "stream",
     "text": [
      "                            OLS Regression Results                            \n",
      "==============================================================================\n",
      "Dep. Variable:            is_purchase   R-squared:                       0.009\n",
      "Model:                            OLS   Adj. R-squared:                  0.009\n",
      "Method:                 Least Squares   F-statistic:                 2.971e+05\n",
      "Date:                Sun, 25 Aug 2024   Prob (F-statistic):               0.00\n",
      "Time:                        13:12:26   Log-Likelihood:             6.6745e+07\n",
      "No. Observations:            68608634   AIC:                        -1.335e+08\n",
      "Df Residuals:                68608631   BIC:                        -1.335e+08\n",
      "Df Model:                           2                                         \n",
      "Covariance Type:            nonrobust                                         \n",
      "====================================================================================\n",
      "                       coef    std err          t      P>|t|      [0.025      0.975]\n",
      "------------------------------------------------------------------------------------\n",
      "Intercept           -0.0019      0.000    -11.117      0.000      -0.002      -0.002\n",
      "treatment           -0.0096      0.002     -4.015      0.000      -0.014      -0.005\n",
      "propensity_score     0.0285      0.003     11.161      0.000       0.024       0.034\n",
      "==============================================================================\n",
      "Omnibus:                107972863.225   Durbin-Watson:                   1.990\n",
      "Prob(Omnibus):                  0.000   Jarque-Bera (JB):      36198372877.709\n",
      "Skew:                          10.561   Prob(JB):                         0.00\n",
      "Kurtosis:                     113.528   Cond. No.                         417.\n",
      "==============================================================================\n",
      "\n",
      "Notes:\n",
      "[1] Standard Errors assume that the covariance matrix of the errors is correctly specified.\n"
     ]
    }
   ],
   "source": [
    "# Estimate the treatment effect using OLS regression\n",
    "model = smf.ols('is_purchase ~ treatment + propensity_score', data=matched_data).fit()\n",
    "print(model.summary())"
   ]
  },
  {
   "cell_type": "markdown",
   "id": "71485260-e842-487f-b040-21dccdbec6d1",
   "metadata": {},
   "source": [
    "- R2 is too low, can be for the reasons like varying product price range.\n",
    "- its harder for the model to handle dataset having varying price range\n",
    "- because of the hetero genity of the product. different product and categories can have varying effects on purchase behavior. example the highend product might not have the same impact as the low price product"
   ]
  },
  {
   "cell_type": "code",
   "execution_count": 37,
   "id": "d31c2aed-bfd9-41c4-a6af-5712019d76ea",
   "metadata": {},
   "outputs": [
    {
     "name": "stdout",
     "output_type": "stream",
     "text": [
      "Estimated Treatment Effect: -0.009566113393856077\n"
     ]
    }
   ],
   "source": [
    "# Extract and interpret the treatment effect\n",
    "treatment_effect = model.params['treatment']\n",
    "print(f\"Estimated Treatment Effect: {treatment_effect}\")"
   ]
  },
  {
   "cell_type": "code",
   "execution_count": null,
   "id": "f1ede492-db70-4369-ae5b-ef7cbb1b6677",
   "metadata": {},
   "outputs": [],
   "source": []
  },
  {
   "cell_type": "markdown",
   "id": "9e9e9307-68b2-49de-bed5-255e35d018af",
   "metadata": {},
   "source": [
    "# Part 6: Visualization and Interpretation"
   ]
  },
  {
   "cell_type": "code",
   "execution_count": 38,
   "id": "3f2be9d9-3f52-4e48-a61a-f43dd1890032",
   "metadata": {},
   "outputs": [
    {
     "data": {
      "image/png": "[encoded data removed]",
      "text/plain": [
       "<Figure size 720x432 with 1 Axes>"
      ]
     },
     "metadata": {
      "needs_background": "light"
     },
     "output_type": "display_data"
    }
   ],
   "source": [
    "# Visualization of Propensity Scores Before and After Matching\n",
    "plt.figure(figsize=(10, 6))\n",
    "sns.kdeplot(treatment_group['propensity_score'], label='Treatment Group Before Matching', shade=True, color='r')\n",
    "sns.kdeplot(control_group['propensity_score'], label='Control Group Before Matching', shade=True, color='b')\n",
    "sns.kdeplot(matched_data[matched_data['treatment'] == 1]['propensity_score'], label='Treatment Group After Matching', shade=True, color='orange')\n",
    "sns.kdeplot(matched_data[matched_data['treatment'] == 0]['propensity_score'], label='Control Group After Matching', shade=True, color='green')\n",
    "plt.title('Propensity Score Distribution Before and After Matching')\n",
    "plt.xlabel('Propensity Score')\n",
    "plt.ylabel('Density')\n",
    "plt.legend()\n",
    "plt.show()"
   ]
  },
  {
   "cell_type": "code",
   "execution_count": 39,
   "id": "a1cab3c2-4fe2-4e80-b99c-c7f346b183ac",
   "metadata": {},
   "outputs": [
    {
     "name": "stdout",
     "output_type": "stream",
     "text": [
      "SED before matching: category_code_encoded   -0.579447\n",
      "brand_encoded           -0.659173\n",
      "dtype: float64\n",
      "SED after matching: category_code_encoded   -2.271995\n",
      "brand_encoded           -2.865632\n",
      "dtype: float64\n"
     ]
    }
   ],
   "source": [
    "# Interpretation of SED results\n",
    "print(f\"SED before matching: {sed_before}\")\n",
    "print(f\"SED after matching: {sed_after}\")"
   ]
  },
  {
   "cell_type": "code",
   "execution_count": 42,
   "id": "14d8f868-e1ce-4bd8-9ba1-18ab18bdb5cb",
   "metadata": {},
   "outputs": [
    {
     "name": "stdout",
     "output_type": "stream",
     "text": [
      "Covariates are well balanced after matching (SED < 0.1). The treatment effect can be interpreted with higher confidence.\n"
     ]
    }
   ],
   "source": [
    "# Interpretation example\n",
    "if (sed_after < 0.1).all():\n",
    "    print(\"Covariates are well balanced after matching (SED < 0.1). The treatment effect can be interpreted with higher confidence.\")\n",
    "else:\n",
    "    print(\"Some covariates are not well balanced after matching (SED > 0.1). Further adjustments may be necessary.\")"
   ]
  },
  {
   "cell_type": "code",
   "execution_count": null,
   "id": "34310b7f-168c-4170-8071-0d18a814666a",
   "metadata": {},
   "outputs": [],
   "source": []
  },
  {
   "cell_type": "code",
   "execution_count": null,
   "id": "27900fed-8923-42ba-89b6-cd8f5ebc97bb",
   "metadata": {},
   "outputs": [],
   "source": []
  }
 ],
 "metadata": {
  "kernelspec": {
   "display_name": "Default_env_69876",
   "language": "python",
   "name": "67960"
  },
  "language_info": {
   "codemirror_mode": {
    "name": "ipython",
    "version": 3
   },
   "file_extension": ".py",
   "mimetype": "text/x-python",
   "name": "python",
   "nbconvert_exporter": "python",
   "pygments_lexer": "ipython3",
   "version": "3.7.0"
  }
 },
 "nbformat": 4,
 "nbformat_minor": 5
}
