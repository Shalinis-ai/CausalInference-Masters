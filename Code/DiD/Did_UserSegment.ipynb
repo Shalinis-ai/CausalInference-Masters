{
 "cells": [
  {
   "cell_type": "code",
   "execution_count": 1,
   "id": "f5441dee-8aed-4dcf-b45c-8cbf57b1072e",
   "metadata": {},
   "outputs": [],
   "source": [
    "## Importing Libraries\n",
    "import pandas as pd\n",
    "import numpy as np"
   ]
  },
  {
   "cell_type": "code",
   "execution_count": 2,
   "id": "194d2eff-d637-4147-9a16-9f27b875fd46",
   "metadata": {},
   "outputs": [],
   "source": [
    "## Reading only the filtered dataset\n",
    "df_filtered = pd.read_csv('df_filtered.csv')"
   ]
  },
  {
   "cell_type": "code",
   "execution_count": 3,
   "id": "ca354f43-e23b-4aea-8085-f574ff6bbb31",
   "metadata": {},
   "outputs": [
    {
     "data": {
      "text/html": [
       "<div>\n",
       "<style scoped>\n",
       "    .dataframe tbody tr th:only-of-type {\n",
       "        vertical-align: middle;\n",
       "    }\n",
       "\n",
       "    .dataframe tbody tr th {\n",
       "        vertical-align: top;\n",
       "    }\n",
       "\n",
       "    .dataframe thead th {\n",
       "        text-align: right;\n",
       "    }\n",
       "</style>\n",
       "<table border=\"1\" class=\"dataframe\">\n",
       "  <thead>\n",
       "    <tr style=\"text-align: right;\">\n",
       "      <th></th>\n",
       "      <th>event_time</th>\n",
       "      <th>event_type</th>\n",
       "      <th>product_id</th>\n",
       "      <th>category_id</th>\n",
       "      <th>category_code</th>\n",
       "      <th>brand</th>\n",
       "      <th>price</th>\n",
       "      <th>user_id</th>\n",
       "      <th>user_session</th>\n",
       "      <th>is_purchase</th>\n",
       "      <th>price_category</th>\n",
       "      <th>treatment</th>\n",
       "      <th>post_treatment</th>\n",
       "      <th>interaction</th>\n",
       "      <th>price_category_num</th>\n",
       "      <th>interaction_impact</th>\n",
       "      <th>category_code_orig</th>\n",
       "      <th>brand_orig</th>\n",
       "    </tr>\n",
       "  </thead>\n",
       "  <tbody>\n",
       "    <tr>\n",
       "      <th>0</th>\n",
       "      <td>2019-10-01</td>\n",
       "      <td>purchase</td>\n",
       "      <td>1004856</td>\n",
       "      <td>2053013555631882655</td>\n",
       "      <td>100</td>\n",
       "      <td>1585</td>\n",
       "      <td>130.76</td>\n",
       "      <td>1745658</td>\n",
       "      <td>8077710</td>\n",
       "      <td>1</td>\n",
       "      <td>Medium</td>\n",
       "      <td>1</td>\n",
       "      <td>0</td>\n",
       "      <td>0</td>\n",
       "      <td>1</td>\n",
       "      <td>0.005314</td>\n",
       "      <td>electronics.smartphone</td>\n",
       "      <td>samsung</td>\n",
       "    </tr>\n",
       "  </tbody>\n",
       "</table>\n",
       "</div>"
      ],
      "text/plain": [
       "   event_time event_type  product_id          category_id  category_code  \\\n",
       "0  2019-10-01   purchase     1004856  2053013555631882655            100   \n",
       "\n",
       "   brand   price  user_id  user_session  is_purchase price_category  \\\n",
       "0   1585  130.76  1745658       8077710            1         Medium   \n",
       "\n",
       "   treatment  post_treatment  interaction  price_category_num  \\\n",
       "0          1               0            0                   1   \n",
       "\n",
       "   interaction_impact      category_code_orig brand_orig  \n",
       "0            0.005314  electronics.smartphone    samsung  "
      ]
     },
     "execution_count": 3,
     "metadata": {},
     "output_type": "execute_result"
    }
   ],
   "source": [
    "df_filtered.head(1)"
   ]
  },
  {
   "cell_type": "code",
   "execution_count": 4,
   "id": "f7a4016e-d189-4a8c-b5bf-d232d2e450ef",
   "metadata": {},
   "outputs": [],
   "source": [
    "# Convert 'event_time' to datetime \n",
    "df_filtered['event_time'] = pd.to_datetime(df_filtered['event_time'])"
   ]
  },
  {
   "cell_type": "code",
   "execution_count": 5,
   "id": "a10a9e67-9bff-44ac-a2a4-bb05aa76055c",
   "metadata": {},
   "outputs": [],
   "source": [
    "# Sort the DataFrame by event_time to ensure latest events are at the bottom\n",
    "df_filtered = df_filtered.sort_values(by='event_time')"
   ]
  },
  {
   "cell_type": "code",
   "execution_count": 9,
   "id": "a9d7d9ca-918a-419c-99bc-f553c6d6ba76",
   "metadata": {},
   "outputs": [],
   "source": [
    "# Group by category and pick the last row (latest interaction impact) for each category\n",
    "df_last_impact = df_filtered.groupby(['category_code', 'price_category_num']).last().reset_index()"
   ]
  },
  {
   "cell_type": "code",
   "execution_count": 11,
   "id": "b1b494ac-1447-4591-9c28-39a336e85dd6",
   "metadata": {},
   "outputs": [
    {
     "data": {
      "text/html": [
       "<div>\n",
       "<style scoped>\n",
       "    .dataframe tbody tr th:only-of-type {\n",
       "        vertical-align: middle;\n",
       "    }\n",
       "\n",
       "    .dataframe tbody tr th {\n",
       "        vertical-align: top;\n",
       "    }\n",
       "\n",
       "    .dataframe thead th {\n",
       "        text-align: right;\n",
       "    }\n",
       "</style>\n",
       "<table border=\"1\" class=\"dataframe\">\n",
       "  <thead>\n",
       "    <tr style=\"text-align: right;\">\n",
       "      <th></th>\n",
       "      <th>category_code</th>\n",
       "      <th>price_category_num</th>\n",
       "      <th>event_time</th>\n",
       "      <th>event_type</th>\n",
       "      <th>product_id</th>\n",
       "      <th>category_id</th>\n",
       "      <th>brand</th>\n",
       "      <th>price</th>\n",
       "      <th>user_id</th>\n",
       "      <th>user_session</th>\n",
       "      <th>is_purchase</th>\n",
       "      <th>price_category</th>\n",
       "      <th>treatment</th>\n",
       "      <th>post_treatment</th>\n",
       "      <th>interaction</th>\n",
       "      <th>interaction_impact</th>\n",
       "      <th>category_code_orig</th>\n",
       "      <th>brand_orig</th>\n",
       "    </tr>\n",
       "  </thead>\n",
       "  <tbody>\n",
       "    <tr>\n",
       "      <th>0</th>\n",
       "      <td>0</td>\n",
       "      <td>0</td>\n",
       "      <td>2019-11-30</td>\n",
       "      <td>view</td>\n",
       "      <td>18300913</td>\n",
       "      <td>2053013558945383017</td>\n",
       "      <td>828</td>\n",
       "      <td>47.29</td>\n",
       "      <td>2610876</td>\n",
       "      <td>233565</td>\n",
       "      <td>0</td>\n",
       "      <td>Low</td>\n",
       "      <td>1</td>\n",
       "      <td>1</td>\n",
       "      <td>1</td>\n",
       "      <td>0.023722</td>\n",
       "      <td>accessories.bag</td>\n",
       "      <td>hp</td>\n",
       "    </tr>\n",
       "  </tbody>\n",
       "</table>\n",
       "</div>"
      ],
      "text/plain": [
       "   category_code  price_category_num event_time event_type  product_id  \\\n",
       "0              0                   0 2019-11-30       view    18300913   \n",
       "\n",
       "           category_id  brand  price  user_id  user_session  is_purchase  \\\n",
       "0  2053013558945383017    828  47.29  2610876        233565            0   \n",
       "\n",
       "  price_category  treatment  post_treatment  interaction  interaction_impact  \\\n",
       "0            Low          1               1            1            0.023722   \n",
       "\n",
       "  category_code_orig brand_orig  \n",
       "0    accessories.bag         hp  "
      ]
     },
     "execution_count": 11,
     "metadata": {},
     "output_type": "execute_result"
    }
   ],
   "source": [
    "df_last_impact.head(1)"
   ]
  },
  {
   "cell_type": "code",
   "execution_count": 12,
   "id": "c3ebeb85-f5e3-4616-b98c-5b8b2ef9ee68",
   "metadata": {},
   "outputs": [],
   "source": [
    "# Keep only the relevant columns \n",
    "df_last_impact = df_last_impact[['category_code_orig','brand_orig', 'price_category','price_category_num', 'interaction_impact', 'event_time']]"
   ]
  },
  {
   "cell_type": "code",
   "execution_count": 13,
   "id": "0042ae0f-2242-4f49-8eb4-4085f6152d87",
   "metadata": {},
   "outputs": [
    {
     "name": "stdout",
     "output_type": "stream",
     "text": [
      "  category_code_orig brand_orig price_category  price_category_num  \\\n",
      "0    accessories.bag         hp            Low                   0   \n",
      "\n",
      "   interaction_impact event_time  \n",
      "0            0.023722 2019-11-30  \n"
     ]
    }
   ],
   "source": [
    "# Display the resulting DataFrame\n",
    "print(df_last_impact.head(1))"
   ]
  },
  {
   "cell_type": "code",
   "execution_count": null,
   "id": "c9646531-ea07-40c7-82fa-43882c9c3e6e",
   "metadata": {},
   "outputs": [],
   "source": []
  },
  {
   "cell_type": "code",
   "execution_count": 14,
   "id": "e0094d92-8e76-4c01-ac85-ea46aeafcdde",
   "metadata": {},
   "outputs": [],
   "source": [
    "## Loading df"
   ]
  },
  {
   "cell_type": "code",
   "execution_count": null,
   "id": "aff39371-6c48-421b-822a-04d3a2b8ab49",
   "metadata": {},
   "outputs": [],
   "source": []
  },
  {
   "cell_type": "code",
   "execution_count": 15,
   "id": "89229401-325a-406a-9eca-d6ef28a22113",
   "metadata": {},
   "outputs": [],
   "source": [
    "import pandas as pd\n",
    "import numpy as np\n",
    "from sklearn.model_selection import train_test_split\n",
    "import seaborn as sns\n",
    "import matplotlib.pyplot as plt"
   ]
  },
  {
   "cell_type": "code",
   "execution_count": 16,
   "id": "9b62f63e-8583-45c1-8d2c-fb5b9da63050",
   "metadata": {},
   "outputs": [],
   "source": [
    "import warnings\n",
    "warnings.filterwarnings('ignore')"
   ]
  },
  {
   "cell_type": "code",
   "execution_count": 17,
   "id": "38bcaa54-dfb4-4bb5-aa20-448be2b611c8",
   "metadata": {},
   "outputs": [],
   "source": [
    "# Load the datasets\n",
    "oct_df = pd.read_csv('/data/CausalTrial/2019-Oct.csv')  # Update the path to your October dataset\n",
    "nov_df = pd.read_csv('/data/CausalTrial/2019-Nov.csv')  # Update the path to your November dataset\n"
   ]
  },
  {
   "cell_type": "code",
   "execution_count": 18,
   "id": "c1f09e3c-8e4d-4746-8586-f64fbf04343f",
   "metadata": {},
   "outputs": [],
   "source": [
    "# Combine the data\n",
    "df = pd.concat([oct_df, nov_df])"
   ]
  },
  {
   "cell_type": "code",
   "execution_count": 19,
   "id": "d2ab17e5-cf3e-4842-a39f-64c1012e9cf9",
   "metadata": {},
   "outputs": [],
   "source": [
    "del(oct_df)\n",
    "del(nov_df)"
   ]
  },
  {
   "cell_type": "code",
   "execution_count": 20,
   "id": "253867d6-5369-42cd-87cf-78af40f8cc4f",
   "metadata": {},
   "outputs": [
    {
     "data": {
      "text/html": [
       "<div>\n",
       "<style scoped>\n",
       "    .dataframe tbody tr th:only-of-type {\n",
       "        vertical-align: middle;\n",
       "    }\n",
       "\n",
       "    .dataframe tbody tr th {\n",
       "        vertical-align: top;\n",
       "    }\n",
       "\n",
       "    .dataframe thead th {\n",
       "        text-align: right;\n",
       "    }\n",
       "</style>\n",
       "<table border=\"1\" class=\"dataframe\">\n",
       "  <thead>\n",
       "    <tr style=\"text-align: right;\">\n",
       "      <th></th>\n",
       "      <th>event_time</th>\n",
       "      <th>event_type</th>\n",
       "      <th>product_id</th>\n",
       "      <th>category_id</th>\n",
       "      <th>category_code</th>\n",
       "      <th>brand</th>\n",
       "      <th>price</th>\n",
       "      <th>user_id</th>\n",
       "      <th>user_session</th>\n",
       "    </tr>\n",
       "  </thead>\n",
       "  <tbody>\n",
       "    <tr>\n",
       "      <th>0</th>\n",
       "      <td>2019-10-01 00:00:00 UTC</td>\n",
       "      <td>view</td>\n",
       "      <td>44600062</td>\n",
       "      <td>2103807459595387724</td>\n",
       "      <td>NaN</td>\n",
       "      <td>shiseido</td>\n",
       "      <td>35.79</td>\n",
       "      <td>541312140</td>\n",
       "      <td>72d76fde-8bb3-4e00-8c23-a032dfed738c</td>\n",
       "    </tr>\n",
       "    <tr>\n",
       "      <th>1</th>\n",
       "      <td>2019-10-01 00:00:00 UTC</td>\n",
       "      <td>view</td>\n",
       "      <td>3900821</td>\n",
       "      <td>2053013552326770905</td>\n",
       "      <td>appliances.environment.water_heater</td>\n",
       "      <td>aqua</td>\n",
       "      <td>33.20</td>\n",
       "      <td>554748717</td>\n",
       "      <td>9333dfbd-b87a-4708-9857-6336556b0fcc</td>\n",
       "    </tr>\n",
       "    <tr>\n",
       "      <th>2</th>\n",
       "      <td>2019-10-01 00:00:01 UTC</td>\n",
       "      <td>view</td>\n",
       "      <td>17200506</td>\n",
       "      <td>2053013559792632471</td>\n",
       "      <td>furniture.living_room.sofa</td>\n",
       "      <td>NaN</td>\n",
       "      <td>543.10</td>\n",
       "      <td>519107250</td>\n",
       "      <td>566511c2-e2e3-422b-b695-cf8e6e792ca8</td>\n",
       "    </tr>\n",
       "    <tr>\n",
       "      <th>3</th>\n",
       "      <td>2019-10-01 00:00:01 UTC</td>\n",
       "      <td>view</td>\n",
       "      <td>1307067</td>\n",
       "      <td>2053013558920217191</td>\n",
       "      <td>computers.notebook</td>\n",
       "      <td>lenovo</td>\n",
       "      <td>251.74</td>\n",
       "      <td>550050854</td>\n",
       "      <td>7c90fc70-0e80-4590-96f3-13c02c18c713</td>\n",
       "    </tr>\n",
       "    <tr>\n",
       "      <th>4</th>\n",
       "      <td>2019-10-01 00:00:04 UTC</td>\n",
       "      <td>view</td>\n",
       "      <td>1004237</td>\n",
       "      <td>2053013555631882655</td>\n",
       "      <td>electronics.smartphone</td>\n",
       "      <td>apple</td>\n",
       "      <td>1081.98</td>\n",
       "      <td>535871217</td>\n",
       "      <td>c6bd7419-2748-4c56-95b4-8cec9ff8b80d</td>\n",
       "    </tr>\n",
       "  </tbody>\n",
       "</table>\n",
       "</div>"
      ],
      "text/plain": [
       "                event_time event_type  product_id          category_id  \\\n",
       "0  2019-10-01 00:00:00 UTC       view    44600062  2103807459595387724   \n",
       "1  2019-10-01 00:00:00 UTC       view     3900821  2053013552326770905   \n",
       "2  2019-10-01 00:00:01 UTC       view    17200506  2053013559792632471   \n",
       "3  2019-10-01 00:00:01 UTC       view     1307067  2053013558920217191   \n",
       "4  2019-10-01 00:00:04 UTC       view     1004237  2053013555631882655   \n",
       "\n",
       "                         category_code     brand    price    user_id  \\\n",
       "0                                  NaN  shiseido    35.79  541312140   \n",
       "1  appliances.environment.water_heater      aqua    33.20  554748717   \n",
       "2           furniture.living_room.sofa       NaN   543.10  519107250   \n",
       "3                   computers.notebook    lenovo   251.74  550050854   \n",
       "4               electronics.smartphone     apple  1081.98  535871217   \n",
       "\n",
       "                           user_session  \n",
       "0  72d76fde-8bb3-4e00-8c23-a032dfed738c  \n",
       "1  9333dfbd-b87a-4708-9857-6336556b0fcc  \n",
       "2  566511c2-e2e3-422b-b695-cf8e6e792ca8  \n",
       "3  7c90fc70-0e80-4590-96f3-13c02c18c713  \n",
       "4  c6bd7419-2748-4c56-95b4-8cec9ff8b80d  "
      ]
     },
     "execution_count": 20,
     "metadata": {},
     "output_type": "execute_result"
    }
   ],
   "source": [
    "df.head()"
   ]
  },
  {
   "cell_type": "code",
   "execution_count": 21,
   "id": "53aac25c-beb8-4388-9f36-c1a8d45c265b",
   "metadata": {},
   "outputs": [],
   "source": [
    "df.replace([np.inf, -np.inf], np.nan, inplace=True)"
   ]
  },
  {
   "cell_type": "code",
   "execution_count": 22,
   "id": "3325f01d-7bbd-4261-b75c-f9de84b52694",
   "metadata": {},
   "outputs": [],
   "source": [
    "df.dropna(inplace=True)"
   ]
  },
  {
   "cell_type": "code",
   "execution_count": 23,
   "id": "3a2d6d63-e4b2-453b-bee1-6dde2b02ccba",
   "metadata": {},
   "outputs": [
    {
     "data": {
      "text/plain": [
       "event_time       0\n",
       "event_type       0\n",
       "product_id       0\n",
       "category_id      0\n",
       "category_code    0\n",
       "brand            0\n",
       "price            0\n",
       "user_id          0\n",
       "user_session     0\n",
       "dtype: int64"
      ]
     },
     "execution_count": 23,
     "metadata": {},
     "output_type": "execute_result"
    }
   ],
   "source": [
    "df.isnull().sum()"
   ]
  },
  {
   "cell_type": "code",
   "execution_count": null,
   "id": "0334d503-e141-477a-a161-bcc2166a4bb3",
   "metadata": {},
   "outputs": [],
   "source": []
  },
  {
   "cell_type": "code",
   "execution_count": 24,
   "id": "9f8a711f-5623-4a18-b912-3ec2bcda412a",
   "metadata": {},
   "outputs": [],
   "source": [
    "# Step 1: Filter the dataset to include only purchase events\n",
    "df['is_purchase'] = df['event_type'].apply(lambda x: 1 if x == 'purchase' else 0)"
   ]
  },
  {
   "cell_type": "code",
   "execution_count": 25,
   "id": "42eec013-31ea-4dde-99dc-813dd425f1c4",
   "metadata": {},
   "outputs": [],
   "source": [
    "### Filtering the price into 4 categories\n",
    "df['price_category'] = pd.qcut(df['price'], q=4, labels=['Low', 'Medium', 'High', 'VeryHigh'])\n"
   ]
  },
  {
   "cell_type": "code",
   "execution_count": null,
   "id": "f19acc10-2243-40e4-ab65-2a413bb72729",
   "metadata": {},
   "outputs": [],
   "source": []
  },
  {
   "cell_type": "code",
   "execution_count": 26,
   "id": "32c6b3f4-10ec-4a51-bc1c-c0a6d4488203",
   "metadata": {},
   "outputs": [],
   "source": [
    "# Step 1: Group by user to see how many purchases were made in each price category\n",
    "user_purchases = df[df['is_purchase'] == 1].groupby(['user_id', 'price_category']).agg({\n",
    "    'product_id': 'count',  # Count of purchases\n",
    "    'user_session': 'first'  # Keep the first user session (could also use mode or another aggregation method)\n",
    "}).reset_index()\n",
    "\n",
    "# Rename product_id to purchase_count for clarity\n",
    "user_purchases.rename(columns={'product_id': 'purchase_count'}, inplace=True)"
   ]
  },
  {
   "cell_type": "code",
   "execution_count": null,
   "id": "cb16bd4b-8c49-4f5a-85f4-2e134e47bbf7",
   "metadata": {},
   "outputs": [],
   "source": []
  },
  {
   "cell_type": "code",
   "execution_count": 28,
   "id": "a1ffca3c-cd0b-4760-8abd-d1b243dd3c66",
   "metadata": {},
   "outputs": [],
   "source": [
    "# Step 2: Determine the primary price category for each user\n",
    "# We will create a function that will assign a primary category based on the majority of purchases\n",
    "\n",
    "def assign_user_category(group):\n",
    "    # If there's only one row for this user, return that price category\n",
    "    if len(group) == 1:\n",
    "        return group['price_category'].values[0]\n",
    "   \n",
    "    # If the user has multiple purchases, check which category has the most purchases\n",
    "    # Sort by purchase count and take the one with the highest count\n",
    "    max_purchase_count = group['purchase_count'].max()\n",
    "    majority_categories = group[group['purchase_count'] == max_purchase_count]['price_category'].tolist()\n",
    "\n",
    "    # If the user has purchased equally from multiple categories, return a list of those categories\n",
    "    return majority_categories\n",
    "\n",
    "# Apply the assign_user_category function to each user\n",
    "user_primary_category = user_purchases.groupby('user_id').apply(assign_user_category).reset_index()\n",
    "\n",
    "# Rename columns for clarity\n",
    "user_primary_category.columns = ['user_id', 'user_category']"
   ]
  },
  {
   "cell_type": "code",
   "execution_count": null,
   "id": "adaad056-015c-4e81-ab5d-fe2140b07484",
   "metadata": {},
   "outputs": [],
   "source": []
  },
  {
   "cell_type": "code",
   "execution_count": 29,
   "id": "fe82e84f-96b6-4f56-9cc9-c87c0b2599a0",
   "metadata": {},
   "outputs": [],
   "source": [
    "# Step 3: Add user_session back to the user DataFrame\n",
    "# We'll merge it back using the user_purchases dataframe\n",
    "user_primary_category = user_primary_category.merge(user_purchases[['user_id', 'user_session']].drop_duplicates(), on='user_id')"
   ]
  },
  {
   "cell_type": "code",
   "execution_count": 30,
   "id": "6795d026-68a0-42ae-992b-afb0d9399f26",
   "metadata": {},
   "outputs": [
    {
     "data": {
      "text/html": [
       "<div>\n",
       "<style scoped>\n",
       "    .dataframe tbody tr th:only-of-type {\n",
       "        vertical-align: middle;\n",
       "    }\n",
       "\n",
       "    .dataframe tbody tr th {\n",
       "        vertical-align: top;\n",
       "    }\n",
       "\n",
       "    .dataframe thead th {\n",
       "        text-align: right;\n",
       "    }\n",
       "</style>\n",
       "<table border=\"1\" class=\"dataframe\">\n",
       "  <thead>\n",
       "    <tr style=\"text-align: right;\">\n",
       "      <th></th>\n",
       "      <th>user_id</th>\n",
       "      <th>user_category</th>\n",
       "      <th>user_session</th>\n",
       "    </tr>\n",
       "  </thead>\n",
       "  <tbody>\n",
       "    <tr>\n",
       "      <th>0</th>\n",
       "      <td>225644257</td>\n",
       "      <td>[Low]</td>\n",
       "      <td>3601c672-9a75-4627-b9be-576298187981</td>\n",
       "    </tr>\n",
       "    <tr>\n",
       "      <th>1</th>\n",
       "      <td>225644257</td>\n",
       "      <td>[Low]</td>\n",
       "      <td>NaN</td>\n",
       "    </tr>\n",
       "    <tr>\n",
       "      <th>2</th>\n",
       "      <td>253299396</td>\n",
       "      <td>[High]</td>\n",
       "      <td>NaN</td>\n",
       "    </tr>\n",
       "    <tr>\n",
       "      <th>3</th>\n",
       "      <td>253299396</td>\n",
       "      <td>[High]</td>\n",
       "      <td>e38b620b-6024-44e8-9db8-81a3a5b0e7e7</td>\n",
       "    </tr>\n",
       "    <tr>\n",
       "      <th>4</th>\n",
       "      <td>256164170</td>\n",
       "      <td>[Medium]</td>\n",
       "      <td>NaN</td>\n",
       "    </tr>\n",
       "    <tr>\n",
       "      <th>...</th>\n",
       "      <td>...</td>\n",
       "      <td>...</td>\n",
       "      <td>...</td>\n",
       "    </tr>\n",
       "    <tr>\n",
       "      <th>1176227</th>\n",
       "      <td>579964521</td>\n",
       "      <td>[High]</td>\n",
       "      <td>a185a06e-2d7c-4b26-b615-61aa755366ae</td>\n",
       "    </tr>\n",
       "    <tr>\n",
       "      <th>1176228</th>\n",
       "      <td>579966375</td>\n",
       "      <td>[Medium]</td>\n",
       "      <td>NaN</td>\n",
       "    </tr>\n",
       "    <tr>\n",
       "      <th>1176229</th>\n",
       "      <td>579966375</td>\n",
       "      <td>[Medium]</td>\n",
       "      <td>b9a6c805-1b4c-4c46-9a49-95dfbcf82750</td>\n",
       "    </tr>\n",
       "    <tr>\n",
       "      <th>1176230</th>\n",
       "      <td>579967058</td>\n",
       "      <td>[Medium]</td>\n",
       "      <td>NaN</td>\n",
       "    </tr>\n",
       "    <tr>\n",
       "      <th>1176231</th>\n",
       "      <td>579967058</td>\n",
       "      <td>[Medium]</td>\n",
       "      <td>07ecc24e-7929-40b7-ba2d-9eaf956aada5</td>\n",
       "    </tr>\n",
       "  </tbody>\n",
       "</table>\n",
       "<p>1176232 rows × 3 columns</p>\n",
       "</div>"
      ],
      "text/plain": [
       "           user_id user_category                          user_session\n",
       "0        225644257         [Low]  3601c672-9a75-4627-b9be-576298187981\n",
       "1        225644257         [Low]                                   NaN\n",
       "2        253299396        [High]                                   NaN\n",
       "3        253299396        [High]  e38b620b-6024-44e8-9db8-81a3a5b0e7e7\n",
       "4        256164170      [Medium]                                   NaN\n",
       "...            ...           ...                                   ...\n",
       "1176227  579964521        [High]  a185a06e-2d7c-4b26-b615-61aa755366ae\n",
       "1176228  579966375      [Medium]                                   NaN\n",
       "1176229  579966375      [Medium]  b9a6c805-1b4c-4c46-9a49-95dfbcf82750\n",
       "1176230  579967058      [Medium]                                   NaN\n",
       "1176231  579967058      [Medium]  07ecc24e-7929-40b7-ba2d-9eaf956aada5\n",
       "\n",
       "[1176232 rows x 3 columns]"
      ]
     },
     "execution_count": 30,
     "metadata": {},
     "output_type": "execute_result"
    }
   ],
   "source": [
    "user_primary_category"
   ]
  },
  {
   "cell_type": "code",
   "execution_count": 31,
   "id": "dcae228b-fc3c-4bd0-a7b2-dd9d8436da5c",
   "metadata": {},
   "outputs": [
    {
     "ename": "TypeError",
     "evalue": "unhashable type: 'list'",
     "output_type": "error",
     "traceback": [
      "\u001b[0;31m---------------------------------------------------------------------------\u001b[0m",
      "\u001b[0;31mTypeError\u001b[0m                                 Traceback (most recent call last)",
      "\u001b[0;32mpandas/_libs/hashtable_class_helper.pxi\u001b[0m in \u001b[0;36mpandas._libs.hashtable.PyObjectHashTable.map_locations\u001b[0;34m()\u001b[0m\n",
      "\u001b[0;31mTypeError\u001b[0m: unhashable type: 'list'"
     ]
    },
    {
     "name": "stderr",
     "output_type": "stream",
     "text": [
      "Exception ignored in: 'pandas._libs.index.IndexEngine._call_map_locations'\n",
      "Traceback (most recent call last):\n",
      "  File \"pandas/_libs/hashtable_class_helper.pxi\", line 1709, in pandas._libs.hashtable.PyObjectHashTable.map_locations\n",
      "TypeError: unhashable type: 'list'\n"
     ]
    },
    {
     "data": {
      "text/plain": [
       "[Medium]                         332862\n",
       "[High]                           268036\n",
       "[VeryHigh]                       236117\n",
       "[Low]                            205527\n",
       "[Medium, High]                    31859\n",
       "[Low, Medium]                     27569\n",
       "[High, VeryHigh]                  21548\n",
       "[Medium, VeryHigh]                15793\n",
       "[Low, High]                       15233\n",
       "[Low, VeryHigh]                    8839\n",
       "[Low, Medium, High]                4428\n",
       "[Medium, High, VeryHigh]           3930\n",
       "[Low, Medium, VeryHigh]            2072\n",
       "[Low, High, VeryHigh]              1765\n",
       "[Low, Medium, High, VeryHigh]       654\n",
       "Name: user_category, dtype: int64"
      ]
     },
     "execution_count": 31,
     "metadata": {},
     "output_type": "execute_result"
    }
   ],
   "source": [
    "user_primary_category.user_category.value_counts()"
   ]
  },
  {
   "cell_type": "code",
   "execution_count": 32,
   "id": "1bfa9572-fff0-47d0-a52a-18d0202519a8",
   "metadata": {},
   "outputs": [
    {
     "data": {
      "text/html": [
       "<div>\n",
       "<style scoped>\n",
       "    .dataframe tbody tr th:only-of-type {\n",
       "        vertical-align: middle;\n",
       "    }\n",
       "\n",
       "    .dataframe tbody tr th {\n",
       "        vertical-align: top;\n",
       "    }\n",
       "\n",
       "    .dataframe thead th {\n",
       "        text-align: right;\n",
       "    }\n",
       "</style>\n",
       "<table border=\"1\" class=\"dataframe\">\n",
       "  <thead>\n",
       "    <tr style=\"text-align: right;\">\n",
       "      <th></th>\n",
       "      <th>user_id</th>\n",
       "      <th>user_category</th>\n",
       "      <th>user_session</th>\n",
       "    </tr>\n",
       "  </thead>\n",
       "  <tbody>\n",
       "    <tr>\n",
       "      <th>0</th>\n",
       "      <td>225644257</td>\n",
       "      <td>Low</td>\n",
       "      <td>3601c672-9a75-4627-b9be-576298187981</td>\n",
       "    </tr>\n",
       "    <tr>\n",
       "      <th>1</th>\n",
       "      <td>225644257</td>\n",
       "      <td>Low</td>\n",
       "      <td>NaN</td>\n",
       "    </tr>\n",
       "    <tr>\n",
       "      <th>2</th>\n",
       "      <td>253299396</td>\n",
       "      <td>High</td>\n",
       "      <td>NaN</td>\n",
       "    </tr>\n",
       "    <tr>\n",
       "      <th>3</th>\n",
       "      <td>253299396</td>\n",
       "      <td>High</td>\n",
       "      <td>e38b620b-6024-44e8-9db8-81a3a5b0e7e7</td>\n",
       "    </tr>\n",
       "    <tr>\n",
       "      <th>4</th>\n",
       "      <td>256164170</td>\n",
       "      <td>Medium</td>\n",
       "      <td>NaN</td>\n",
       "    </tr>\n",
       "    <tr>\n",
       "      <th>...</th>\n",
       "      <td>...</td>\n",
       "      <td>...</td>\n",
       "      <td>...</td>\n",
       "    </tr>\n",
       "    <tr>\n",
       "      <th>1176227</th>\n",
       "      <td>579964521</td>\n",
       "      <td>High</td>\n",
       "      <td>a185a06e-2d7c-4b26-b615-61aa755366ae</td>\n",
       "    </tr>\n",
       "    <tr>\n",
       "      <th>1176228</th>\n",
       "      <td>579966375</td>\n",
       "      <td>Medium</td>\n",
       "      <td>NaN</td>\n",
       "    </tr>\n",
       "    <tr>\n",
       "      <th>1176229</th>\n",
       "      <td>579966375</td>\n",
       "      <td>Medium</td>\n",
       "      <td>b9a6c805-1b4c-4c46-9a49-95dfbcf82750</td>\n",
       "    </tr>\n",
       "    <tr>\n",
       "      <th>1176230</th>\n",
       "      <td>579967058</td>\n",
       "      <td>Medium</td>\n",
       "      <td>NaN</td>\n",
       "    </tr>\n",
       "    <tr>\n",
       "      <th>1176231</th>\n",
       "      <td>579967058</td>\n",
       "      <td>Medium</td>\n",
       "      <td>07ecc24e-7929-40b7-ba2d-9eaf956aada5</td>\n",
       "    </tr>\n",
       "  </tbody>\n",
       "</table>\n",
       "<p>1323425 rows × 3 columns</p>\n",
       "</div>"
      ],
      "text/plain": [
       "           user_id user_category                          user_session\n",
       "0        225644257           Low  3601c672-9a75-4627-b9be-576298187981\n",
       "1        225644257           Low                                   NaN\n",
       "2        253299396          High                                   NaN\n",
       "3        253299396          High  e38b620b-6024-44e8-9db8-81a3a5b0e7e7\n",
       "4        256164170        Medium                                   NaN\n",
       "...            ...           ...                                   ...\n",
       "1176227  579964521          High  a185a06e-2d7c-4b26-b615-61aa755366ae\n",
       "1176228  579966375        Medium                                   NaN\n",
       "1176229  579966375        Medium  b9a6c805-1b4c-4c46-9a49-95dfbcf82750\n",
       "1176230  579967058        Medium                                   NaN\n",
       "1176231  579967058        Medium  07ecc24e-7929-40b7-ba2d-9eaf956aada5\n",
       "\n",
       "[1323425 rows x 3 columns]"
      ]
     },
     "execution_count": 32,
     "metadata": {},
     "output_type": "execute_result"
    }
   ],
   "source": [
    "user_primary_category_exp = user_primary_category.explode('user_category')\n",
    "user_primary_category_exp"
   ]
  },
  {
   "cell_type": "code",
   "execution_count": null,
   "id": "87e2e84b-9be0-4cc5-baae-ad2d8a1fa871",
   "metadata": {},
   "outputs": [],
   "source": []
  },
  {
   "cell_type": "code",
   "execution_count": null,
   "id": "8c07d843-0e9d-4ba2-8cb8-930e8f7338e8",
   "metadata": {},
   "outputs": [],
   "source": []
  },
  {
   "cell_type": "code",
   "execution_count": 33,
   "id": "a9575de4-45f8-484c-a04c-433e507e13bc",
   "metadata": {},
   "outputs": [],
   "source": [
    "## Now mapping the category with the list of users who will be interested"
   ]
  },
  {
   "cell_type": "code",
   "execution_count": 34,
   "id": "21456178-7eed-4369-8cfa-cd69e9173c20",
   "metadata": {},
   "outputs": [],
   "source": [
    "# Step 1: Merge user_primary_category_expanded with df_last_impact based on price_category\n",
    "# Here, user_category in user_primary_category_expanded is the same as price_category_num in df_last_impact\n",
    "df_merged = pd.merge(user_primary_category_exp,\n",
    "                     df_last_impact,\n",
    "                     left_on='user_category',\n",
    "                     right_on='price_category',\n",
    "                     how='inner')"
   ]
  },
  {
   "cell_type": "code",
   "execution_count": 37,
   "id": "4393cf9c-82f3-4dd7-b777-1390f977a817",
   "metadata": {},
   "outputs": [
    {
     "data": {
      "text/plain": [
       "(75770814, 9)"
      ]
     },
     "execution_count": 37,
     "metadata": {},
     "output_type": "execute_result"
    }
   ],
   "source": [
    "df_merged.shape"
   ]
  },
  {
   "cell_type": "code",
   "execution_count": null,
   "id": "243b69f1-0a01-4472-9f2e-db61ba509401",
   "metadata": {},
   "outputs": [],
   "source": []
  },
  {
   "cell_type": "code",
   "execution_count": null,
   "id": "8c34b6ba-a9df-47a6-8a00-75c85168a301",
   "metadata": {},
   "outputs": [],
   "source": []
  },
  {
   "cell_type": "code",
   "execution_count": 41,
   "id": "5faa486a-80bd-4ed5-8871-9e944669ab9d",
   "metadata": {},
   "outputs": [],
   "source": [
    "# Step 2: Group by price_category_num (or user_category) and list users\n",
    "grouped_users = df_merged.groupby('price_category').agg({\n",
    "    'user_id': list,           # Aggregate the user IDs into a list\n",
    "    'user_session': list,      # Aggregate the user sessions into a list\n",
    "    'interaction_impact': 'median'  # keeping the interaction impact with median impact since different category has differnt products imapct reference\n",
    "}).reset_index()"
   ]
  },
  {
   "cell_type": "code",
   "execution_count": 42,
   "id": "f582d65d-8c27-4865-8442-8a4669751064",
   "metadata": {},
   "outputs": [
    {
     "data": {
      "text/html": [
       "<div>\n",
       "<style scoped>\n",
       "    .dataframe tbody tr th:only-of-type {\n",
       "        vertical-align: middle;\n",
       "    }\n",
       "\n",
       "    .dataframe tbody tr th {\n",
       "        vertical-align: top;\n",
       "    }\n",
       "\n",
       "    .dataframe thead th {\n",
       "        text-align: right;\n",
       "    }\n",
       "</style>\n",
       "<table border=\"1\" class=\"dataframe\">\n",
       "  <thead>\n",
       "    <tr style=\"text-align: right;\">\n",
       "      <th></th>\n",
       "      <th>price_category</th>\n",
       "      <th>user_id</th>\n",
       "      <th>user_session</th>\n",
       "      <th>interaction_impact</th>\n",
       "    </tr>\n",
       "  </thead>\n",
       "  <tbody>\n",
       "    <tr>\n",
       "      <th>0</th>\n",
       "      <td>High</td>\n",
       "      <td>[253299396, 253299396, 253299396, 253299396, 2...</td>\n",
       "      <td>[nan, nan, nan, nan, nan, nan, nan, nan, nan, ...</td>\n",
       "      <td>0.035695</td>\n",
       "    </tr>\n",
       "    <tr>\n",
       "      <th>1</th>\n",
       "      <td>Low</td>\n",
       "      <td>[225644257, 225644257, 225644257, 225644257, 2...</td>\n",
       "      <td>[3601c672-9a75-4627-b9be-576298187981, 3601c67...</td>\n",
       "      <td>0.037824</td>\n",
       "    </tr>\n",
       "    <tr>\n",
       "      <th>2</th>\n",
       "      <td>Medium</td>\n",
       "      <td>[256164170, 256164170, 256164170, 256164170, 2...</td>\n",
       "      <td>[nan, nan, nan, nan, nan, nan, nan, nan, nan, ...</td>\n",
       "      <td>0.034785</td>\n",
       "    </tr>\n",
       "    <tr>\n",
       "      <th>3</th>\n",
       "      <td>VeryHigh</td>\n",
       "      <td>[304707635, 304707635, 304707635, 304707635, 3...</td>\n",
       "      <td>[nan, nan, nan, nan, nan, nan, nan, nan, nan, ...</td>\n",
       "      <td>0.033145</td>\n",
       "    </tr>\n",
       "  </tbody>\n",
       "</table>\n",
       "</div>"
      ],
      "text/plain": [
       "  price_category                                            user_id  \\\n",
       "0           High  [253299396, 253299396, 253299396, 253299396, 2...   \n",
       "1            Low  [225644257, 225644257, 225644257, 225644257, 2...   \n",
       "2         Medium  [256164170, 256164170, 256164170, 256164170, 2...   \n",
       "3       VeryHigh  [304707635, 304707635, 304707635, 304707635, 3...   \n",
       "\n",
       "                                        user_session  interaction_impact  \n",
       "0  [nan, nan, nan, nan, nan, nan, nan, nan, nan, ...            0.035695  \n",
       "1  [3601c672-9a75-4627-b9be-576298187981, 3601c67...            0.037824  \n",
       "2  [nan, nan, nan, nan, nan, nan, nan, nan, nan, ...            0.034785  \n",
       "3  [nan, nan, nan, nan, nan, nan, nan, nan, nan, ...            0.033145  "
      ]
     },
     "execution_count": 42,
     "metadata": {},
     "output_type": "execute_result"
    }
   ],
   "source": [
    "grouped_users"
   ]
  },
  {
   "cell_type": "code",
   "execution_count": 43,
   "id": "ecfdfddb-82ba-4954-8523-9b07b4a68258",
   "metadata": {},
   "outputs": [],
   "source": [
    "grouped_users.to_csv('userList_persuadables_DiD.csv', index=None)"
   ]
  },
  {
   "cell_type": "code",
   "execution_count": null,
   "id": "2bb4dba5-965b-47d3-a99c-8e9a404d901b",
   "metadata": {},
   "outputs": [],
   "source": []
  },
  {
   "cell_type": "markdown",
   "id": "f89d014b-da2f-4f8f-84d8-e17283d5e693",
   "metadata": {},
   "source": [
    "- Taken only the filtered dataframe with the details of the product brand which has positive impact\n",
    "- Now we need to find which user segment will be influenced by this price change\n",
    "- Based on the grouping we have found out the group of users who will be influenced by the price change\n",
    "- The userList_persuadables_DiD.csv has the list of users who can be persuaded for the product purchase if the price is reduced."
   ]
  },
  {
   "cell_type": "code",
   "execution_count": null,
   "id": "f85cdb41-f1af-46cb-abf0-7c077f74fb1f",
   "metadata": {},
   "outputs": [],
   "source": []
  }
 ],
 "metadata": {
  "kernelspec": {
   "display_name": "Default_env_69876",
   "language": "python",
   "name": "67960"
  },
  "language_info": {
   "codemirror_mode": {
    "name": "ipython",
    "version": 3
   },
   "file_extension": ".py",
   "mimetype": "text/x-python",
   "name": "python",
   "nbconvert_exporter": "python",
   "pygments_lexer": "ipython3",
   "version": "3.7.0"
  }
 },
 "nbformat": 4,
 "nbformat_minor": 5
}
