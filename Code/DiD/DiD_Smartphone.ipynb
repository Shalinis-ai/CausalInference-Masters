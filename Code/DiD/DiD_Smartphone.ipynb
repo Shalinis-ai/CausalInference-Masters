{
 "cells": [
  {
   "cell_type": "code",
   "execution_count": null,
   "id": "6a43214d-a3eb-41ea-8d51-bdd5105ea259",
   "metadata": {},
   "outputs": [],
   "source": []
  },
  {
   "cell_type": "code",
   "execution_count": 1,
   "id": "54083417-7dab-416b-aeaa-37f0238e0e9f",
   "metadata": {},
   "outputs": [],
   "source": [
    "import pandas as pd\n",
    "import numpy as np\n",
    "from sklearn.preprocessing import LabelEncoder"
   ]
  },
  {
   "cell_type": "code",
   "execution_count": 2,
   "id": "ea78196d-3119-4559-95ca-28b2dfe8ef56",
   "metadata": {},
   "outputs": [],
   "source": [
    "# Assuming 'category_data' is your DataFrame containing data for a specific product and category_code\n",
    "# Let's start with encoding categorical variables if needed\n"
   ]
  },
  {
   "cell_type": "code",
   "execution_count": null,
   "id": "565ce63e-97dc-4fd8-b598-527ae52bcaf7",
   "metadata": {},
   "outputs": [],
   "source": []
  },
  {
   "cell_type": "code",
   "execution_count": 3,
   "id": "1d226b10-798d-447f-a161-9c28d6927576",
   "metadata": {},
   "outputs": [],
   "source": [
    "import warnings\n"
   ]
  },
  {
   "cell_type": "code",
   "execution_count": 4,
   "id": "5196f6d0-e51e-46af-a1df-d7cdfd47e427",
   "metadata": {},
   "outputs": [],
   "source": [
    "warnings.filterwarnings('ignore')"
   ]
  },
  {
   "cell_type": "code",
   "execution_count": 5,
   "id": "0e23f13c-d72f-4bfc-be86-1cef6233fa1b",
   "metadata": {},
   "outputs": [],
   "source": [
    "# Load the datasets\n",
    "oct_df = pd.read_csv('/data/CausalTrial/2019-Oct.csv')  # Update the path to your October dataset\n",
    "nov_df = pd.read_csv('/data/CausalTrial/2019-Nov.csv')  # Update the path to your November dataset\n"
   ]
  },
  {
   "cell_type": "code",
   "execution_count": 6,
   "id": "28742bee-8012-4c16-9acb-518bd4f521c1",
   "metadata": {},
   "outputs": [],
   "source": [
    "# Combine the data\n",
    "data = pd.concat([oct_df, nov_df])"
   ]
  },
  {
   "cell_type": "code",
   "execution_count": 7,
   "id": "3a997d8c-76ef-4780-80cb-56a4e69681cb",
   "metadata": {},
   "outputs": [],
   "source": [
    "del(oct_df)\n",
    "del(nov_df)"
   ]
  },
  {
   "cell_type": "code",
   "execution_count": 8,
   "id": "9c4211f5-41bb-416b-8652-d7fd258c2bef",
   "metadata": {},
   "outputs": [
    {
     "data": {
      "text/html": [
       "<div>\n",
       "<style scoped>\n",
       "    .dataframe tbody tr th:only-of-type {\n",
       "        vertical-align: middle;\n",
       "    }\n",
       "\n",
       "    .dataframe tbody tr th {\n",
       "        vertical-align: top;\n",
       "    }\n",
       "\n",
       "    .dataframe thead th {\n",
       "        text-align: right;\n",
       "    }\n",
       "</style>\n",
       "<table border=\"1\" class=\"dataframe\">\n",
       "  <thead>\n",
       "    <tr style=\"text-align: right;\">\n",
       "      <th></th>\n",
       "      <th>event_time</th>\n",
       "      <th>event_type</th>\n",
       "      <th>product_id</th>\n",
       "      <th>category_id</th>\n",
       "      <th>category_code</th>\n",
       "      <th>brand</th>\n",
       "      <th>price</th>\n",
       "      <th>user_id</th>\n",
       "      <th>user_session</th>\n",
       "    </tr>\n",
       "  </thead>\n",
       "  <tbody>\n",
       "    <tr>\n",
       "      <th>0</th>\n",
       "      <td>2019-10-01 00:00:00 UTC</td>\n",
       "      <td>view</td>\n",
       "      <td>44600062</td>\n",
       "      <td>2103807459595387724</td>\n",
       "      <td>NaN</td>\n",
       "      <td>shiseido</td>\n",
       "      <td>35.79</td>\n",
       "      <td>541312140</td>\n",
       "      <td>72d76fde-8bb3-4e00-8c23-a032dfed738c</td>\n",
       "    </tr>\n",
       "    <tr>\n",
       "      <th>1</th>\n",
       "      <td>2019-10-01 00:00:00 UTC</td>\n",
       "      <td>view</td>\n",
       "      <td>3900821</td>\n",
       "      <td>2053013552326770905</td>\n",
       "      <td>appliances.environment.water_heater</td>\n",
       "      <td>aqua</td>\n",
       "      <td>33.20</td>\n",
       "      <td>554748717</td>\n",
       "      <td>9333dfbd-b87a-4708-9857-6336556b0fcc</td>\n",
       "    </tr>\n",
       "    <tr>\n",
       "      <th>2</th>\n",
       "      <td>2019-10-01 00:00:01 UTC</td>\n",
       "      <td>view</td>\n",
       "      <td>17200506</td>\n",
       "      <td>2053013559792632471</td>\n",
       "      <td>furniture.living_room.sofa</td>\n",
       "      <td>NaN</td>\n",
       "      <td>543.10</td>\n",
       "      <td>519107250</td>\n",
       "      <td>566511c2-e2e3-422b-b695-cf8e6e792ca8</td>\n",
       "    </tr>\n",
       "    <tr>\n",
       "      <th>3</th>\n",
       "      <td>2019-10-01 00:00:01 UTC</td>\n",
       "      <td>view</td>\n",
       "      <td>1307067</td>\n",
       "      <td>2053013558920217191</td>\n",
       "      <td>computers.notebook</td>\n",
       "      <td>lenovo</td>\n",
       "      <td>251.74</td>\n",
       "      <td>550050854</td>\n",
       "      <td>7c90fc70-0e80-4590-96f3-13c02c18c713</td>\n",
       "    </tr>\n",
       "    <tr>\n",
       "      <th>4</th>\n",
       "      <td>2019-10-01 00:00:04 UTC</td>\n",
       "      <td>view</td>\n",
       "      <td>1004237</td>\n",
       "      <td>2053013555631882655</td>\n",
       "      <td>electronics.smartphone</td>\n",
       "      <td>apple</td>\n",
       "      <td>1081.98</td>\n",
       "      <td>535871217</td>\n",
       "      <td>c6bd7419-2748-4c56-95b4-8cec9ff8b80d</td>\n",
       "    </tr>\n",
       "  </tbody>\n",
       "</table>\n",
       "</div>"
      ],
      "text/plain": [
       "                event_time event_type  product_id          category_id  \\\n",
       "0  2019-10-01 00:00:00 UTC       view    44600062  2103807459595387724   \n",
       "1  2019-10-01 00:00:00 UTC       view     3900821  2053013552326770905   \n",
       "2  2019-10-01 00:00:01 UTC       view    17200506  2053013559792632471   \n",
       "3  2019-10-01 00:00:01 UTC       view     1307067  2053013558920217191   \n",
       "4  2019-10-01 00:00:04 UTC       view     1004237  2053013555631882655   \n",
       "\n",
       "                         category_code     brand    price    user_id  \\\n",
       "0                                  NaN  shiseido    35.79  541312140   \n",
       "1  appliances.environment.water_heater      aqua    33.20  554748717   \n",
       "2           furniture.living_room.sofa       NaN   543.10  519107250   \n",
       "3                   computers.notebook    lenovo   251.74  550050854   \n",
       "4               electronics.smartphone     apple  1081.98  535871217   \n",
       "\n",
       "                           user_session  \n",
       "0  72d76fde-8bb3-4e00-8c23-a032dfed738c  \n",
       "1  9333dfbd-b87a-4708-9857-6336556b0fcc  \n",
       "2  566511c2-e2e3-422b-b695-cf8e6e792ca8  \n",
       "3  7c90fc70-0e80-4590-96f3-13c02c18c713  \n",
       "4  c6bd7419-2748-4c56-95b4-8cec9ff8b80d  "
      ]
     },
     "execution_count": 8,
     "metadata": {},
     "output_type": "execute_result"
    }
   ],
   "source": [
    "data.head()"
   ]
  },
  {
   "cell_type": "code",
   "execution_count": 9,
   "id": "d58c8edb-655e-4361-aab7-4f3ed0ca20de",
   "metadata": {},
   "outputs": [],
   "source": [
    "# Filter for the 'electronics.smartphone' category\n",
    "smartphones_df = data[data['category_code'] == 'electronics.smartphone']"
   ]
  },
  {
   "cell_type": "code",
   "execution_count": 10,
   "id": "2dc37d64-23dd-4c6b-9280-c26a822b9b4a",
   "metadata": {},
   "outputs": [],
   "source": [
    "# Create a treatment group for Apple and a control group for Samsung\n",
    "smartphones_df['Treat'] = smartphones_df['brand'].apply(lambda x: 1 if x == 'apple' else 0)\n"
   ]
  },
  {
   "cell_type": "code",
   "execution_count": 11,
   "id": "096820d9-e3e8-4693-841d-1c55e8df3251",
   "metadata": {},
   "outputs": [],
   "source": [
    "# Sort treatment group by event_time and determine the intervention date for Apple\n",
    "treatment_group = smartphones_df[smartphones_df['brand'] == 'apple'].sort_values(by='event_time')\n",
    "treatment_group['price_diff'] = treatment_group['price'].diff()\n",
    "intervention_index = treatment_group[treatment_group['price_diff'] < 0].index[0]\n",
    "intervention_date = treatment_group.loc[intervention_index, 'event_time']"
   ]
  },
  {
   "cell_type": "code",
   "execution_count": 12,
   "id": "1d9c87a4-5ebe-4d74-bbf8-12dc5a7dcfd8",
   "metadata": {},
   "outputs": [],
   "source": [
    "# Add a post-intervention indicator\n",
    "smartphones_df['Post'] = smartphones_df['event_time'].apply(lambda x: 1 if x >= intervention_date else 0)"
   ]
  },
  {
   "cell_type": "code",
   "execution_count": 13,
   "id": "8b40d957-ab69-42d2-a52d-5c9a914fb851",
   "metadata": {},
   "outputs": [],
   "source": [
    "import statsmodels.api as sm"
   ]
  },
  {
   "cell_type": "code",
   "execution_count": 14,
   "id": "b62aed72-fcda-43d8-a9e5-4e51863aec81",
   "metadata": {},
   "outputs": [],
   "source": [
    "# Define the independent variables (Post, Treat, and the interaction term)\n",
    "smartphones_df['Post_Treat'] = smartphones_df['Post'] * smartphones_df['Treat']"
   ]
  },
  {
   "cell_type": "code",
   "execution_count": 15,
   "id": "2da05541-4ee1-4ec4-ab6c-e9f83abdc81f",
   "metadata": {},
   "outputs": [],
   "source": [
    "# Define the dependent variable (e.g., price or sales)\n",
    "Y = smartphones_df['price']  # or 'sales'"
   ]
  },
  {
   "cell_type": "code",
   "execution_count": 16,
   "id": "94f39464-d09c-4f40-9fd3-ada9fa5e6d8d",
   "metadata": {},
   "outputs": [],
   "source": [
    "# Define the independent variables matrix\n",
    "X = smartphones_df[['Post', 'Treat', 'Post_Treat']]"
   ]
  },
  {
   "cell_type": "code",
   "execution_count": 17,
   "id": "432fd363-44ef-4870-83b2-361beea32366",
   "metadata": {},
   "outputs": [],
   "source": [
    "# Add a constant to the model (intercept)\n",
    "X = sm.add_constant(X)"
   ]
  },
  {
   "cell_type": "code",
   "execution_count": 18,
   "id": "99338e30-b0e0-4daf-a878-40dd195473d3",
   "metadata": {},
   "outputs": [],
   "source": [
    "# Fit the OLS model\n",
    "model = sm.OLS(Y, X).fit()"
   ]
  },
  {
   "cell_type": "code",
   "execution_count": 19,
   "id": "36b3626c-b238-43c0-bb5f-ea9c8b02d1e4",
   "metadata": {},
   "outputs": [
    {
     "name": "stdout",
     "output_type": "stream",
     "text": [
      "                            OLS Regression Results                            \n",
      "==============================================================================\n",
      "Dep. Variable:                  price   R-squared:                       0.506\n",
      "Model:                            OLS   Adj. R-squared:                  0.506\n",
      "Method:                 Least Squares   F-statistic:                 9.507e+06\n",
      "Date:                Tue, 03 Sep 2024   Prob (F-statistic):               0.00\n",
      "Time:                        18:49:19   Log-Likelihood:            -1.9725e+08\n",
      "No. Observations:            27882231   AIC:                         3.945e+08\n",
      "Df Residuals:                27882227   BIC:                         3.945e+08\n",
      "Df Model:                           3                                         \n",
      "Covariance Type:            nonrobust                                         \n",
      "==============================================================================\n",
      "                 coef    std err          t      P>|t|      [0.025      0.975]\n",
      "------------------------------------------------------------------------------\n",
      "const        733.3250    202.118      3.628      0.000     337.182    1129.468\n",
      "Post        -436.7942    202.118     -2.161      0.031    -832.938     -40.651\n",
      "Treat        681.5600    285.838      2.384      0.017     121.329    1241.791\n",
      "Post_Treat   -40.7753    285.838     -0.143      0.887    -601.007     519.456\n",
      "==============================================================================\n",
      "Omnibus:                 11063107.551   Durbin-Watson:                   1.993\n",
      "Prob(Omnibus):                  0.000   Jarque-Bera (JB):         70519877.840\n",
      "Skew:                           1.788   Prob(JB):                         0.00\n",
      "Kurtosis:                       9.922   Cond. No.                     1.27e+04\n",
      "==============================================================================\n",
      "\n",
      "Notes:\n",
      "[1] Standard Errors assume that the covariance matrix of the errors is correctly specified.\n",
      "[2] The condition number is large, 1.27e+04. This might indicate that there are\n",
      "strong multicollinearity or other numerical problems.\n"
     ]
    }
   ],
   "source": [
    "# Print the summary of the regression\n",
    "print(model.summary())"
   ]
  },
  {
   "cell_type": "code",
   "execution_count": 20,
   "id": "e3fd7914-45d1-4df8-91b6-b10894ac7f97",
   "metadata": {},
   "outputs": [
    {
     "data": {
      "text/html": [
       "<table class=\"simpletable\">\n",
       "<caption>OLS Regression Results</caption>\n",
       "<tr>\n",
       "  <th>Dep. Variable:</th>          <td>price</td>      <th>  R-squared:         </th>  <td>   0.506</td>  \n",
       "</tr>\n",
       "<tr>\n",
       "  <th>Model:</th>                   <td>OLS</td>       <th>  Adj. R-squared:    </th>  <td>   0.506</td>  \n",
       "</tr>\n",
       "<tr>\n",
       "  <th>Method:</th>             <td>Least Squares</td>  <th>  F-statistic:       </th>  <td>9.507e+06</td> \n",
       "</tr>\n",
       "<tr>\n",
       "  <th>Date:</th>             <td>Tue, 03 Sep 2024</td> <th>  Prob (F-statistic):</th>   <td>  0.00</td>   \n",
       "</tr>\n",
       "<tr>\n",
       "  <th>Time:</th>                 <td>18:52:02</td>     <th>  Log-Likelihood:    </th> <td>-1.9725e+08</td>\n",
       "</tr>\n",
       "<tr>\n",
       "  <th>No. Observations:</th>     <td>27882231</td>     <th>  AIC:               </th>  <td>3.945e+08</td> \n",
       "</tr>\n",
       "<tr>\n",
       "  <th>Df Residuals:</th>         <td>27882227</td>     <th>  BIC:               </th>  <td>3.945e+08</td> \n",
       "</tr>\n",
       "<tr>\n",
       "  <th>Df Model:</th>              <td>     3</td>      <th>                     </th>      <td> </td>     \n",
       "</tr>\n",
       "<tr>\n",
       "  <th>Covariance Type:</th>      <td>nonrobust</td>    <th>                     </th>      <td> </td>     \n",
       "</tr>\n",
       "</table>\n",
       "<table class=\"simpletable\">\n",
       "<tr>\n",
       "       <td></td>         <th>coef</th>     <th>std err</th>      <th>t</th>      <th>P>|t|</th>  <th>[0.025</th>    <th>0.975]</th>  \n",
       "</tr>\n",
       "<tr>\n",
       "  <th>const</th>      <td>  733.3250</td> <td>  202.118</td> <td>    3.628</td> <td> 0.000</td> <td>  337.182</td> <td> 1129.468</td>\n",
       "</tr>\n",
       "<tr>\n",
       "  <th>Post</th>       <td> -436.7942</td> <td>  202.118</td> <td>   -2.161</td> <td> 0.031</td> <td> -832.938</td> <td>  -40.651</td>\n",
       "</tr>\n",
       "<tr>\n",
       "  <th>Treat</th>      <td>  681.5600</td> <td>  285.838</td> <td>    2.384</td> <td> 0.017</td> <td>  121.329</td> <td> 1241.791</td>\n",
       "</tr>\n",
       "<tr>\n",
       "  <th>Post_Treat</th> <td>  -40.7753</td> <td>  285.838</td> <td>   -0.143</td> <td> 0.887</td> <td> -601.007</td> <td>  519.456</td>\n",
       "</tr>\n",
       "</table>\n",
       "<table class=\"simpletable\">\n",
       "<tr>\n",
       "  <th>Omnibus:</th>       <td>11063107.551</td> <th>  Durbin-Watson:     </th>   <td>   1.993</td>  \n",
       "</tr>\n",
       "<tr>\n",
       "  <th>Prob(Omnibus):</th>    <td> 0.000</td>    <th>  Jarque-Bera (JB):  </th> <td>70519877.840</td>\n",
       "</tr>\n",
       "<tr>\n",
       "  <th>Skew:</th>             <td> 1.788</td>    <th>  Prob(JB):          </th>   <td>    0.00</td>  \n",
       "</tr>\n",
       "<tr>\n",
       "  <th>Kurtosis:</th>         <td> 9.922</td>    <th>  Cond. No.          </th>   <td>1.27e+04</td>  \n",
       "</tr>\n",
       "</table><br/><br/>Notes:<br/>[1] Standard Errors assume that the covariance matrix of the errors is correctly specified.<br/>[2] The condition number is large, 1.27e+04. This might indicate that there are<br/>strong multicollinearity or other numerical problems."
      ],
      "text/plain": [
       "<class 'statsmodels.iolib.summary.Summary'>\n",
       "\"\"\"\n",
       "                            OLS Regression Results                            \n",
       "==============================================================================\n",
       "Dep. Variable:                  price   R-squared:                       0.506\n",
       "Model:                            OLS   Adj. R-squared:                  0.506\n",
       "Method:                 Least Squares   F-statistic:                 9.507e+06\n",
       "Date:                Tue, 03 Sep 2024   Prob (F-statistic):               0.00\n",
       "Time:                        18:52:02   Log-Likelihood:            -1.9725e+08\n",
       "No. Observations:            27882231   AIC:                         3.945e+08\n",
       "Df Residuals:                27882227   BIC:                         3.945e+08\n",
       "Df Model:                           3                                         \n",
       "Covariance Type:            nonrobust                                         \n",
       "==============================================================================\n",
       "                 coef    std err          t      P>|t|      [0.025      0.975]\n",
       "------------------------------------------------------------------------------\n",
       "const        733.3250    202.118      3.628      0.000     337.182    1129.468\n",
       "Post        -436.7942    202.118     -2.161      0.031    -832.938     -40.651\n",
       "Treat        681.5600    285.838      2.384      0.017     121.329    1241.791\n",
       "Post_Treat   -40.7753    285.838     -0.143      0.887    -601.007     519.456\n",
       "==============================================================================\n",
       "Omnibus:                 11063107.551   Durbin-Watson:                   1.993\n",
       "Prob(Omnibus):                  0.000   Jarque-Bera (JB):         70519877.840\n",
       "Skew:                           1.788   Prob(JB):                         0.00\n",
       "Kurtosis:                       9.922   Cond. No.                     1.27e+04\n",
       "==============================================================================\n",
       "\n",
       "Notes:\n",
       "[1] Standard Errors assume that the covariance matrix of the errors is correctly specified.\n",
       "[2] The condition number is large, 1.27e+04. This might indicate that there are\n",
       "strong multicollinearity or other numerical problems.\n",
       "\"\"\""
      ]
     },
     "execution_count": 20,
     "metadata": {},
     "output_type": "execute_result"
    }
   ],
   "source": [
    "model.summary()"
   ]
  },
  {
   "cell_type": "code",
   "execution_count": 21,
   "id": "bf11b52b-a5ea-4964-8be1-079dbc9cc9e9",
   "metadata": {},
   "outputs": [],
   "source": [
    "import statsmodels.api as sm"
   ]
  },
  {
   "cell_type": "code",
   "execution_count": 22,
   "id": "0c1abe3e-5c30-4ebc-991d-e52f8ed89d53",
   "metadata": {},
   "outputs": [],
   "source": [
    "best_r2 = 0\n",
    "best_control_brand = None\n",
    "best_model_summary = None"
   ]
  },
  {
   "cell_type": "code",
   "execution_count": 24,
   "id": "cbc567f6-5520-4a3f-bfb2-8602eb1cfc9a",
   "metadata": {},
   "outputs": [
    {
     "data": {
      "text/plain": [
       "array(['apple', 'huawei', 'samsung', 'xiaomi', 'nokia', 'oneplus', 'oppo',\n",
       "       'bq', 'fly', 'meizu', 'vivo', 'doogee', 'sony', 'asus', 'lg', nan,\n",
       "       'honor', 'tp-link', 'jinga', 'gionee', 'google', 'prestigio',\n",
       "       'blackberry', 'tecno', 'haier', 'nubia', 'ark', 'irbis', 'inoi',\n",
       "       'zte', 'texet', 'philips', 'htc', 'micromax', 'vertex', 'leagoo',\n",
       "       'hiper', 'leeco', 'motorola', 'bravis', 'oukitel', 'umi', 'lenovo'],\n",
       "      dtype=object)"
      ]
     },
     "execution_count": 24,
     "metadata": {},
     "output_type": "execute_result"
    }
   ],
   "source": [
    "unique_brands = smartphones_df['brand'].unique()\n",
    "unique_brands"
   ]
  },
  {
   "cell_type": "code",
   "execution_count": 25,
   "id": "edc45cb3-f591-4859-9133-45bab4b18c6e",
   "metadata": {},
   "outputs": [
    {
     "name": "stdout",
     "output_type": "stream",
     "text": [
      "Best Control Brand: xiaomi with R² = 0.5847404626069845\n",
      "                            OLS Regression Results                            \n",
      "==============================================================================\n",
      "Dep. Variable:                  price   R-squared:                       0.585\n",
      "Model:                            OLS   Adj. R-squared:                  0.585\n",
      "Method:                 Least Squares   F-statistic:                 6.320e+06\n",
      "Date:                Tue, 03 Sep 2024   Prob (F-statistic):               0.00\n",
      "Time:                        18:58:51   Log-Likelihood:            -9.5594e+07\n",
      "No. Observations:            13463907   AIC:                         1.912e+08\n",
      "Df Residuals:                13463903   BIC:                         1.912e+08\n",
      "Df Model:                           3                                         \n",
      "Covariance Type:            nonrobust                                         \n",
      "==============================================================================\n",
      "                 coef    std err          t      P>|t|      [0.025      0.975]\n",
      "------------------------------------------------------------------------------\n",
      "const      -1.448e+12   8.28e+11     -1.747      0.081   -3.07e+12    1.76e+11\n",
      "Post        1.448e+12   8.28e+11      1.747      0.081   -1.76e+11    3.07e+12\n",
      "Treat       1.448e+12   8.28e+11      1.747      0.081   -1.76e+11    3.07e+12\n",
      "Post_Treat -1.448e+12   8.28e+11     -1.747      0.081   -3.07e+12    1.76e+11\n",
      "==============================================================================\n",
      "Omnibus:                  1675585.074   Durbin-Watson:                   1.984\n",
      "Prob(Omnibus):                  0.000   Jarque-Bera (JB):          3089490.940\n",
      "Skew:                           0.818   Prob(JB):                         0.00\n",
      "Kurtosis:                       4.681   Cond. No.                     3.49e+13\n",
      "==============================================================================\n",
      "\n",
      "Notes:\n",
      "[1] Standard Errors assume that the covariance matrix of the errors is correctly specified.\n",
      "[2] The smallest eigenvalue is 3.13e-20. This might indicate that there are\n",
      "strong multicollinearity problems or that the design matrix is singular.\n"
     ]
    }
   ],
   "source": [
    "for brand in unique_brands:\n",
    "    if brand == 'apple':\n",
    "        continue  # Skip Apple as it's our treatment group\n",
    "   \n",
    "    # Define control group\n",
    "    control_group = smartphones_df[smartphones_df['brand'] == brand]\n",
    "   \n",
    "    # Combine treatment and control groups\n",
    "    combined_df = pd.concat([treatment_group, control_group])\n",
    "\n",
    "    # Add the Post, Treat, and Post_Treat variables\n",
    "    combined_df['Treat'] = combined_df['brand'].apply(lambda x: 1 if x == 'apple' else 0)\n",
    "    combined_df['Post'] = combined_df['event_time'].apply(lambda x: 1 if x >= intervention_date else 0)\n",
    "    combined_df['Post_Treat'] = combined_df['Post'] * combined_df['Treat']\n",
    "   \n",
    "    # Define the dependent variable (e.g., price or sales)\n",
    "    Y = combined_df['price']  # or 'sales'\n",
    "\n",
    "    # Define the independent variables matrix\n",
    "    X = combined_df[['Post', 'Treat', 'Post_Treat']]\n",
    "    X = sm.add_constant(X)\n",
    "   \n",
    "    # Fit the OLS model\n",
    "    model = sm.OLS(Y, X).fit()\n",
    "   \n",
    "    # Check if this model has a better R² value\n",
    "    if model.rsquared > best_r2:\n",
    "        best_r2 = model.rsquared\n",
    "        best_control_brand = brand\n",
    "        best_model_summary = model.summary()\n",
    "\n",
    "print(f\"Best Control Brand: {best_control_brand} with R² = {best_r2}\")\n",
    "print(best_model_summary)"
   ]
  },
  {
   "cell_type": "code",
   "execution_count": 26,
   "id": "115f3fe2-2bef-41cd-bab2-11a94db83325",
   "metadata": {},
   "outputs": [
    {
     "data": {
      "text/html": [
       "<table class=\"simpletable\">\n",
       "<caption>OLS Regression Results</caption>\n",
       "<tr>\n",
       "  <th>Dep. Variable:</th>          <td>price</td>      <th>  R-squared:         </th>  <td>   0.585</td>  \n",
       "</tr>\n",
       "<tr>\n",
       "  <th>Model:</th>                   <td>OLS</td>       <th>  Adj. R-squared:    </th>  <td>   0.585</td>  \n",
       "</tr>\n",
       "<tr>\n",
       "  <th>Method:</th>             <td>Least Squares</td>  <th>  F-statistic:       </th>  <td>6.320e+06</td> \n",
       "</tr>\n",
       "<tr>\n",
       "  <th>Date:</th>             <td>Tue, 03 Sep 2024</td> <th>  Prob (F-statistic):</th>   <td>  0.00</td>   \n",
       "</tr>\n",
       "<tr>\n",
       "  <th>Time:</th>                 <td>18:58:51</td>     <th>  Log-Likelihood:    </th> <td>-9.5594e+07</td>\n",
       "</tr>\n",
       "<tr>\n",
       "  <th>No. Observations:</th>     <td>13463907</td>     <th>  AIC:               </th>  <td>1.912e+08</td> \n",
       "</tr>\n",
       "<tr>\n",
       "  <th>Df Residuals:</th>         <td>13463903</td>     <th>  BIC:               </th>  <td>1.912e+08</td> \n",
       "</tr>\n",
       "<tr>\n",
       "  <th>Df Model:</th>              <td>     3</td>      <th>                     </th>      <td> </td>     \n",
       "</tr>\n",
       "<tr>\n",
       "  <th>Covariance Type:</th>      <td>nonrobust</td>    <th>                     </th>      <td> </td>     \n",
       "</tr>\n",
       "</table>\n",
       "<table class=\"simpletable\">\n",
       "<tr>\n",
       "       <td></td>         <th>coef</th>     <th>std err</th>      <th>t</th>      <th>P>|t|</th>  <th>[0.025</th>    <th>0.975]</th>  \n",
       "</tr>\n",
       "<tr>\n",
       "  <th>const</th>      <td>-1.448e+12</td> <td> 8.28e+11</td> <td>   -1.747</td> <td> 0.081</td> <td>-3.07e+12</td> <td> 1.76e+11</td>\n",
       "</tr>\n",
       "<tr>\n",
       "  <th>Post</th>       <td> 1.448e+12</td> <td> 8.28e+11</td> <td>    1.747</td> <td> 0.081</td> <td>-1.76e+11</td> <td> 3.07e+12</td>\n",
       "</tr>\n",
       "<tr>\n",
       "  <th>Treat</th>      <td> 1.448e+12</td> <td> 8.28e+11</td> <td>    1.747</td> <td> 0.081</td> <td>-1.76e+11</td> <td> 3.07e+12</td>\n",
       "</tr>\n",
       "<tr>\n",
       "  <th>Post_Treat</th> <td>-1.448e+12</td> <td> 8.28e+11</td> <td>   -1.747</td> <td> 0.081</td> <td>-3.07e+12</td> <td> 1.76e+11</td>\n",
       "</tr>\n",
       "</table>\n",
       "<table class=\"simpletable\">\n",
       "<tr>\n",
       "  <th>Omnibus:</th>       <td>1675585.074</td> <th>  Durbin-Watson:     </th>  <td>   1.984</td>  \n",
       "</tr>\n",
       "<tr>\n",
       "  <th>Prob(Omnibus):</th>   <td> 0.000</td>    <th>  Jarque-Bera (JB):  </th> <td>3089490.940</td>\n",
       "</tr>\n",
       "<tr>\n",
       "  <th>Skew:</th>            <td> 0.818</td>    <th>  Prob(JB):          </th>  <td>    0.00</td>  \n",
       "</tr>\n",
       "<tr>\n",
       "  <th>Kurtosis:</th>        <td> 4.681</td>    <th>  Cond. No.          </th>  <td>3.49e+13</td>  \n",
       "</tr>\n",
       "</table><br/><br/>Notes:<br/>[1] Standard Errors assume that the covariance matrix of the errors is correctly specified.<br/>[2] The smallest eigenvalue is 3.13e-20. This might indicate that there are<br/>strong multicollinearity problems or that the design matrix is singular."
      ],
      "text/plain": [
       "<class 'statsmodels.iolib.summary.Summary'>\n",
       "\"\"\"\n",
       "                            OLS Regression Results                            \n",
       "==============================================================================\n",
       "Dep. Variable:                  price   R-squared:                       0.585\n",
       "Model:                            OLS   Adj. R-squared:                  0.585\n",
       "Method:                 Least Squares   F-statistic:                 6.320e+06\n",
       "Date:                Tue, 03 Sep 2024   Prob (F-statistic):               0.00\n",
       "Time:                        18:58:51   Log-Likelihood:            -9.5594e+07\n",
       "No. Observations:            13463907   AIC:                         1.912e+08\n",
       "Df Residuals:                13463903   BIC:                         1.912e+08\n",
       "Df Model:                           3                                         \n",
       "Covariance Type:            nonrobust                                         \n",
       "==============================================================================\n",
       "                 coef    std err          t      P>|t|      [0.025      0.975]\n",
       "------------------------------------------------------------------------------\n",
       "const      -1.448e+12   8.28e+11     -1.747      0.081   -3.07e+12    1.76e+11\n",
       "Post        1.448e+12   8.28e+11      1.747      0.081   -1.76e+11    3.07e+12\n",
       "Treat       1.448e+12   8.28e+11      1.747      0.081   -1.76e+11    3.07e+12\n",
       "Post_Treat -1.448e+12   8.28e+11     -1.747      0.081   -3.07e+12    1.76e+11\n",
       "==============================================================================\n",
       "Omnibus:                  1675585.074   Durbin-Watson:                   1.984\n",
       "Prob(Omnibus):                  0.000   Jarque-Bera (JB):          3089490.940\n",
       "Skew:                           0.818   Prob(JB):                         0.00\n",
       "Kurtosis:                       4.681   Cond. No.                     3.49e+13\n",
       "==============================================================================\n",
       "\n",
       "Notes:\n",
       "[1] Standard Errors assume that the covariance matrix of the errors is correctly specified.\n",
       "[2] The smallest eigenvalue is 3.13e-20. This might indicate that there are\n",
       "strong multicollinearity problems or that the design matrix is singular.\n",
       "\"\"\""
      ]
     },
     "execution_count": 26,
     "metadata": {},
     "output_type": "execute_result"
    }
   ],
   "source": [
    "best_model_summary"
   ]
  },
  {
   "cell_type": "code",
   "execution_count": null,
   "id": "b10ec390-04ec-4e13-9cf0-a750bca56c2c",
   "metadata": {},
   "outputs": [],
   "source": []
  },
  {
   "cell_type": "code",
   "execution_count": null,
   "id": "34bd52b0-748e-4fe1-ac95-caa1ca1bf7b9",
   "metadata": {},
   "outputs": [],
   "source": []
  },
  {
   "cell_type": "code",
   "execution_count": 27,
   "id": "992742e1-9d69-47a8-b3f1-58eed61771f3",
   "metadata": {},
   "outputs": [],
   "source": [
    "### Updating the Treatment"
   ]
  },
  {
   "cell_type": "code",
   "execution_count": 28,
   "id": "7b8efbc1-07ae-4b78-ac2c-27f4d9f01344",
   "metadata": {},
   "outputs": [],
   "source": [
    "import statsmodels.api as sm\n",
    "from statsmodels.stats.outliers_influence import variance_inflation_factor"
   ]
  },
  {
   "cell_type": "code",
   "execution_count": 29,
   "id": "1c2b6494-1c9a-4719-a5b3-2acb337d7186",
   "metadata": {},
   "outputs": [],
   "source": [
    "best_model_summary = None\n",
    "best_treatment_brand = None\n",
    "best_control_brand = None\n",
    "best_model_criteria = None"
   ]
  },
  {
   "cell_type": "code",
   "execution_count": 30,
   "id": "6fed4d60-95a3-40e4-a64e-e230c2b430c1",
   "metadata": {},
   "outputs": [],
   "source": [
    "# Set criteria for evaluating models\n",
    "def evaluate_model(model):\n",
    "    return {\n",
    "        'R²': model.rsquared,\n",
    "        'Adjusted R²': model.rsquared_adj,\n",
    "        'Post_Treat p-value': model.pvalues['Post_Treat'],\n",
    "        'F-statistic p-value': model.f_pvalue,\n",
    "        'Post_Treat Coefficient': model.params['Post_Treat'],\n",
    "        'Model Summary': model.summary()\n",
    "    }"
   ]
  },
  {
   "cell_type": "code",
   "execution_count": null,
   "id": "1ec5ef41-76d2-4e13-889f-29574cea007b",
   "metadata": {},
   "outputs": [],
   "source": [
    "# Loop through each brand as the treatment group\n",
    "for treatment_brand in unique_brands:\n",
    "   \n",
    "    # Define the treatment group\n",
    "    treatment_group = smartphones_df[smartphones_df['brand'] == treatment_brand].sort_values(by='event_time')\n",
    "   \n",
    "    # Identify the intervention date based on the first price drop\n",
    "    treatment_group['price_diff'] = treatment_group['price'].diff()\n",
    "    intervention_index = treatment_group[treatment_group['price_diff'] < 0].index[0]\n",
    "    intervention_date = treatment_group.loc[intervention_index, 'event_time']\n",
    "   \n",
    "    # Loop through each brand as the control group\n",
    "    for control_brand in unique_brands:\n",
    "        if control_brand == treatment_brand:\n",
    "            continue  # Skip the treatment brand itself\n",
    "       \n",
    "        # Define control group\n",
    "        control_group = smartphones_df[smartphones_df['brand'] == control_brand]\n",
    "       \n",
    "        # Combine treatment and control groups\n",
    "        combined_df = pd.concat([treatment_group, control_group])\n",
    "       \n",
    "        # Add the Post, Treat, and Post_Treat variables\n",
    "        combined_df['Treat'] = combined_df['brand'].apply(lambda x: 1 if x == treatment_brand else 0)\n",
    "        combined_df['Post'] = combined_df['event_time'].apply(lambda x: 1 if x >= intervention_date else 0)\n",
    "        combined_df['Post_Treat'] = combined_df['Post'] * combined_df['Treat']\n",
    "       \n",
    "        # Define the dependent variable (e.g., price or sales)\n",
    "        Y = combined_df['price']  # or 'sales'\n",
    "       \n",
    "        # Define the independent variables matrix\n",
    "        X = combined_df[['Post', 'Treat', 'Post_Treat']]\n",
    "        X = sm.add_constant(X)\n",
    "       \n",
    "        # Fit the OLS model\n",
    "        model = sm.OLS(Y, X).fit()\n",
    "       \n",
    "        # Evaluate the model using multiple criteria\n",
    "        model_criteria = evaluate_model(model)\n",
    "       \n",
    "        # Compare this model with the best one found so far\n",
    "        if best_model_criteria is None or (\n",
    "            model_criteria['Post_Treat p-value'] < 0.05 and  # Significant interaction effect\n",
    "            model_criteria['R²'] > best_model_criteria['R²'] and  # Higher R²\n",
    "            model_criteria['Adjusted R²'] > best_model_criteria['Adjusted R²']  # Higher Adjusted R²\n",
    "        ):\n",
    "            best_model_criteria = model_criteria\n",
    "            best_treatment_brand = treatment_brand\n",
    "            best_control_brand = control_brand\n",
    "\n",
    "# Print the best model found\n",
    "if best_model_criteria:\n",
    "    print(f\"Best Treatment Brand: {best_treatment_brand} with Control Brand: {best_control_brand}\")\n",
    "    print(f\"R²: {best_model_criteria['R²']}, Adjusted R²: {best_model_criteria['Adjusted R²']}\")\n",
    "    print(f\"Post_Treat Coefficient: {best_model_criteria['Post_Treat Coefficient']}\")\n",
    "    print(f\"Post_Treat p-value: {best_model_criteria['Post_Treat p-value']}\")\n",
    "    print(f\"F-statistic p-value: {best_model_criteria['F-statistic p-value']}\")\n",
    "    print(best_model_criteria['Model Summary'])\n",
    "else:\n",
    "    print(\"No suitable treatment and control combination found with significant treatment effect.\")"
   ]
  },
  {
   "cell_type": "code",
   "execution_count": null,
   "id": "a8213569-70ca-4f97-9517-48cac04e10ea",
   "metadata": {},
   "outputs": [],
   "source": []
  }
 ],
 "metadata": {
  "kernelspec": {
   "display_name": "Default_env_69876",
   "language": "python",
   "name": "67960"
  },
  "language_info": {
   "codemirror_mode": {
    "name": "ipython",
    "version": 3
   },
   "file_extension": ".py",
   "mimetype": "text/x-python",
   "name": "python",
   "nbconvert_exporter": "python",
   "pygments_lexer": "ipython3",
   "version": "3.7.0"
  }
 },
 "nbformat": 4,
 "nbformat_minor": 5
}
